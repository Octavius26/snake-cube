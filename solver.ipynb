{
 "cells": [
  {
   "cell_type": "code",
   "execution_count": 2,
   "metadata": {},
   "outputs": [],
   "source": [
    "import numpy as np\n",
    "from typing import Literal\n",
    "\n",
    "from solver_back import *"
   ]
  },
  {
   "cell_type": "code",
   "execution_count": 3,
   "metadata": {},
   "outputs": [
    {
     "name": "stdout",
     "output_type": "stream",
     "text": [
      "Expeted size = 8, Real size = 8\t===> OK\n",
      "Expeted size = 27, Real size = 27\t===> OK\n",
      "Expeted size = 64, Real size = 64\t===> OK\n"
     ]
    },
    {
     "data": {
      "text/plain": [
       "True"
      ]
     },
     "execution_count": 3,
     "metadata": {},
     "output_type": "execute_result"
    }
   ],
   "source": [
    "snake2 = [2,2,2,2,2,2,2]\n",
    "snake3 = [3,2,2,3,2,3,2,2,3,3,2,2,2,3,3,3,3]\n",
    "snake4 = [2,4,2,2,2,2,2,2,2,2,2,3,2,4,2,2,2,4,3,2,2,2,2,2,3,3,2,2,2,2,2,2,2,2,3,2,3,2,3,2,4,2,2,3,2,3]\n",
    "\n",
    "def sum_valid(snake:list,cube_size=3):\n",
    "\t# print(sum(snake)-len(snake) + 1 - cube_size**3)\n",
    "\tE_size = cube_size ** 3\n",
    "\tR_size =  sum(snake)-len(snake) + 1\n",
    "\tprint(f\"Expeted size = {E_size}, Real size = {R_size}\t\",end='')\n",
    "\tif E_size == R_size: print(\"===> OK\")\n",
    "\telse: print(\"===> Warning\")\n",
    "\treturn E_size == R_size\n",
    "\n",
    "sum_valid(snake2,cube_size=2)\n",
    "sum_valid(snake3,cube_size=3)\n",
    "sum_valid(snake4,cube_size=4)\n",
    "\n",
    "# print(\"snake2 ok :\",sum_valid(snake2,cube_size=2))\n",
    "# print(\"snake3 ok :\",sum_valid(snake3,cube_size=3))\n",
    "# print(\"snake4 ok :\",sum_valid(snake4,cube_size=4))"
   ]
  },
  {
   "cell_type": "code",
   "execution_count": 3,
   "metadata": {},
   "outputs": [
    {
     "name": "stdout",
     "output_type": "stream",
     "text": [
      "#16\n",
      "#15\n",
      "#14\n",
      "#.#13\n",
      "#12\n",
      "#11\n",
      "#10\n",
      "#9\n",
      "##############8\n",
      "#.#.#.#.#7\n",
      "#6\n",
      "#5\n",
      "#4\n",
      "######3\n",
      "##.......##......##.......##....."
     ]
    }
   ],
   "source": [
    "cube_sol = solve(snake3,size=3,start_point=(0,0,1))"
   ]
  },
  {
   "cell_type": "code",
   "execution_count": 4,
   "metadata": {},
   "outputs": [
    {
     "data": {
      "application/vnd.plotly.v1+json": {
       "config": {
        "plotlyServerURL": "https://plot.ly"
       },
       "data": [
        {
         "marker": {
          "color": "#555",
          "opacity": 0.8,
          "size": 12
         },
         "mode": "markers",
         "type": "scatter3d",
         "x": [
          0,
          0,
          0,
          0,
          0,
          0,
          0,
          0,
          0,
          1,
          1,
          1,
          1,
          1,
          1,
          1,
          1,
          1,
          2,
          2,
          2,
          2,
          2,
          2,
          2,
          2,
          2
         ],
         "y": [
          0,
          0,
          0,
          1,
          1,
          1,
          2,
          2,
          2,
          0,
          0,
          0,
          1,
          1,
          1,
          2,
          2,
          2,
          0,
          0,
          0,
          1,
          1,
          1,
          2,
          2,
          2
         ],
         "z": [
          0,
          1,
          2,
          0,
          1,
          2,
          0,
          1,
          2,
          0,
          1,
          2,
          0,
          1,
          2,
          0,
          1,
          2,
          0,
          1,
          2,
          0,
          1,
          2,
          0,
          1,
          2
         ]
        },
        {
         "marker": {
          "color": "#0a0",
          "opacity": 0.5,
          "size": 12
         },
         "mode": "markers",
         "type": "scatter3d",
         "x": [
          0,
          0,
          0,
          0,
          0,
          1,
          2,
          2
         ],
         "y": [
          0,
          1,
          1,
          2,
          2,
          1,
          1,
          1
         ],
         "z": [
          1,
          0,
          1,
          0,
          1,
          0,
          0,
          1
         ]
        },
        {
         "marker": {
          "color": "#f00",
          "opacity": 0.5,
          "size": 12
         },
         "mode": "markers",
         "type": "scatter3d",
         "x": [],
         "y": [],
         "z": []
        },
        {
         "marker": {
          "color": "#000",
          "opacity": 1,
          "size": 12
         },
         "mode": "markers",
         "type": "scatter3d",
         "x": [],
         "y": [],
         "z": []
        },
        {
         "marker": {
          "color": "#0aa",
          "opacity": 0.5,
          "size": 18
         },
         "mode": "markers",
         "type": "scatter3d",
         "x": [
          2
         ],
         "y": [
          1
         ],
         "z": [
          1
         ]
        },
        {
         "marker": {
          "color": "#0f0",
          "opacity": 0.5,
          "size": 18
         },
         "mode": "markers",
         "type": "scatter3d",
         "x": [],
         "y": [],
         "z": []
        }
       ],
       "layout": {
        "margin": {
         "b": 0,
         "l": 0,
         "r": 0,
         "t": 0
        },
        "template": {
         "data": {
          "bar": [
           {
            "error_x": {
             "color": "#2a3f5f"
            },
            "error_y": {
             "color": "#2a3f5f"
            },
            "marker": {
             "line": {
              "color": "#E5ECF6",
              "width": 0.5
             },
             "pattern": {
              "fillmode": "overlay",
              "size": 10,
              "solidity": 0.2
             }
            },
            "type": "bar"
           }
          ],
          "barpolar": [
           {
            "marker": {
             "line": {
              "color": "#E5ECF6",
              "width": 0.5
             },
             "pattern": {
              "fillmode": "overlay",
              "size": 10,
              "solidity": 0.2
             }
            },
            "type": "barpolar"
           }
          ],
          "carpet": [
           {
            "aaxis": {
             "endlinecolor": "#2a3f5f",
             "gridcolor": "white",
             "linecolor": "white",
             "minorgridcolor": "white",
             "startlinecolor": "#2a3f5f"
            },
            "baxis": {
             "endlinecolor": "#2a3f5f",
             "gridcolor": "white",
             "linecolor": "white",
             "minorgridcolor": "white",
             "startlinecolor": "#2a3f5f"
            },
            "type": "carpet"
           }
          ],
          "choropleth": [
           {
            "colorbar": {
             "outlinewidth": 0,
             "ticks": ""
            },
            "type": "choropleth"
           }
          ],
          "contour": [
           {
            "colorbar": {
             "outlinewidth": 0,
             "ticks": ""
            },
            "colorscale": [
             [
              0,
              "#0d0887"
             ],
             [
              0.1111111111111111,
              "#46039f"
             ],
             [
              0.2222222222222222,
              "#7201a8"
             ],
             [
              0.3333333333333333,
              "#9c179e"
             ],
             [
              0.4444444444444444,
              "#bd3786"
             ],
             [
              0.5555555555555556,
              "#d8576b"
             ],
             [
              0.6666666666666666,
              "#ed7953"
             ],
             [
              0.7777777777777778,
              "#fb9f3a"
             ],
             [
              0.8888888888888888,
              "#fdca26"
             ],
             [
              1,
              "#f0f921"
             ]
            ],
            "type": "contour"
           }
          ],
          "contourcarpet": [
           {
            "colorbar": {
             "outlinewidth": 0,
             "ticks": ""
            },
            "type": "contourcarpet"
           }
          ],
          "heatmap": [
           {
            "colorbar": {
             "outlinewidth": 0,
             "ticks": ""
            },
            "colorscale": [
             [
              0,
              "#0d0887"
             ],
             [
              0.1111111111111111,
              "#46039f"
             ],
             [
              0.2222222222222222,
              "#7201a8"
             ],
             [
              0.3333333333333333,
              "#9c179e"
             ],
             [
              0.4444444444444444,
              "#bd3786"
             ],
             [
              0.5555555555555556,
              "#d8576b"
             ],
             [
              0.6666666666666666,
              "#ed7953"
             ],
             [
              0.7777777777777778,
              "#fb9f3a"
             ],
             [
              0.8888888888888888,
              "#fdca26"
             ],
             [
              1,
              "#f0f921"
             ]
            ],
            "type": "heatmap"
           }
          ],
          "heatmapgl": [
           {
            "colorbar": {
             "outlinewidth": 0,
             "ticks": ""
            },
            "colorscale": [
             [
              0,
              "#0d0887"
             ],
             [
              0.1111111111111111,
              "#46039f"
             ],
             [
              0.2222222222222222,
              "#7201a8"
             ],
             [
              0.3333333333333333,
              "#9c179e"
             ],
             [
              0.4444444444444444,
              "#bd3786"
             ],
             [
              0.5555555555555556,
              "#d8576b"
             ],
             [
              0.6666666666666666,
              "#ed7953"
             ],
             [
              0.7777777777777778,
              "#fb9f3a"
             ],
             [
              0.8888888888888888,
              "#fdca26"
             ],
             [
              1,
              "#f0f921"
             ]
            ],
            "type": "heatmapgl"
           }
          ],
          "histogram": [
           {
            "marker": {
             "pattern": {
              "fillmode": "overlay",
              "size": 10,
              "solidity": 0.2
             }
            },
            "type": "histogram"
           }
          ],
          "histogram2d": [
           {
            "colorbar": {
             "outlinewidth": 0,
             "ticks": ""
            },
            "colorscale": [
             [
              0,
              "#0d0887"
             ],
             [
              0.1111111111111111,
              "#46039f"
             ],
             [
              0.2222222222222222,
              "#7201a8"
             ],
             [
              0.3333333333333333,
              "#9c179e"
             ],
             [
              0.4444444444444444,
              "#bd3786"
             ],
             [
              0.5555555555555556,
              "#d8576b"
             ],
             [
              0.6666666666666666,
              "#ed7953"
             ],
             [
              0.7777777777777778,
              "#fb9f3a"
             ],
             [
              0.8888888888888888,
              "#fdca26"
             ],
             [
              1,
              "#f0f921"
             ]
            ],
            "type": "histogram2d"
           }
          ],
          "histogram2dcontour": [
           {
            "colorbar": {
             "outlinewidth": 0,
             "ticks": ""
            },
            "colorscale": [
             [
              0,
              "#0d0887"
             ],
             [
              0.1111111111111111,
              "#46039f"
             ],
             [
              0.2222222222222222,
              "#7201a8"
             ],
             [
              0.3333333333333333,
              "#9c179e"
             ],
             [
              0.4444444444444444,
              "#bd3786"
             ],
             [
              0.5555555555555556,
              "#d8576b"
             ],
             [
              0.6666666666666666,
              "#ed7953"
             ],
             [
              0.7777777777777778,
              "#fb9f3a"
             ],
             [
              0.8888888888888888,
              "#fdca26"
             ],
             [
              1,
              "#f0f921"
             ]
            ],
            "type": "histogram2dcontour"
           }
          ],
          "mesh3d": [
           {
            "colorbar": {
             "outlinewidth": 0,
             "ticks": ""
            },
            "type": "mesh3d"
           }
          ],
          "parcoords": [
           {
            "line": {
             "colorbar": {
              "outlinewidth": 0,
              "ticks": ""
             }
            },
            "type": "parcoords"
           }
          ],
          "pie": [
           {
            "automargin": true,
            "type": "pie"
           }
          ],
          "scatter": [
           {
            "fillpattern": {
             "fillmode": "overlay",
             "size": 10,
             "solidity": 0.2
            },
            "type": "scatter"
           }
          ],
          "scatter3d": [
           {
            "line": {
             "colorbar": {
              "outlinewidth": 0,
              "ticks": ""
             }
            },
            "marker": {
             "colorbar": {
              "outlinewidth": 0,
              "ticks": ""
             }
            },
            "type": "scatter3d"
           }
          ],
          "scattercarpet": [
           {
            "marker": {
             "colorbar": {
              "outlinewidth": 0,
              "ticks": ""
             }
            },
            "type": "scattercarpet"
           }
          ],
          "scattergeo": [
           {
            "marker": {
             "colorbar": {
              "outlinewidth": 0,
              "ticks": ""
             }
            },
            "type": "scattergeo"
           }
          ],
          "scattergl": [
           {
            "marker": {
             "colorbar": {
              "outlinewidth": 0,
              "ticks": ""
             }
            },
            "type": "scattergl"
           }
          ],
          "scattermapbox": [
           {
            "marker": {
             "colorbar": {
              "outlinewidth": 0,
              "ticks": ""
             }
            },
            "type": "scattermapbox"
           }
          ],
          "scatterpolar": [
           {
            "marker": {
             "colorbar": {
              "outlinewidth": 0,
              "ticks": ""
             }
            },
            "type": "scatterpolar"
           }
          ],
          "scatterpolargl": [
           {
            "marker": {
             "colorbar": {
              "outlinewidth": 0,
              "ticks": ""
             }
            },
            "type": "scatterpolargl"
           }
          ],
          "scatterternary": [
           {
            "marker": {
             "colorbar": {
              "outlinewidth": 0,
              "ticks": ""
             }
            },
            "type": "scatterternary"
           }
          ],
          "surface": [
           {
            "colorbar": {
             "outlinewidth": 0,
             "ticks": ""
            },
            "colorscale": [
             [
              0,
              "#0d0887"
             ],
             [
              0.1111111111111111,
              "#46039f"
             ],
             [
              0.2222222222222222,
              "#7201a8"
             ],
             [
              0.3333333333333333,
              "#9c179e"
             ],
             [
              0.4444444444444444,
              "#bd3786"
             ],
             [
              0.5555555555555556,
              "#d8576b"
             ],
             [
              0.6666666666666666,
              "#ed7953"
             ],
             [
              0.7777777777777778,
              "#fb9f3a"
             ],
             [
              0.8888888888888888,
              "#fdca26"
             ],
             [
              1,
              "#f0f921"
             ]
            ],
            "type": "surface"
           }
          ],
          "table": [
           {
            "cells": {
             "fill": {
              "color": "#EBF0F8"
             },
             "line": {
              "color": "white"
             }
            },
            "header": {
             "fill": {
              "color": "#C8D4E3"
             },
             "line": {
              "color": "white"
             }
            },
            "type": "table"
           }
          ]
         },
         "layout": {
          "annotationdefaults": {
           "arrowcolor": "#2a3f5f",
           "arrowhead": 0,
           "arrowwidth": 1
          },
          "autotypenumbers": "strict",
          "coloraxis": {
           "colorbar": {
            "outlinewidth": 0,
            "ticks": ""
           }
          },
          "colorscale": {
           "diverging": [
            [
             0,
             "#8e0152"
            ],
            [
             0.1,
             "#c51b7d"
            ],
            [
             0.2,
             "#de77ae"
            ],
            [
             0.3,
             "#f1b6da"
            ],
            [
             0.4,
             "#fde0ef"
            ],
            [
             0.5,
             "#f7f7f7"
            ],
            [
             0.6,
             "#e6f5d0"
            ],
            [
             0.7,
             "#b8e186"
            ],
            [
             0.8,
             "#7fbc41"
            ],
            [
             0.9,
             "#4d9221"
            ],
            [
             1,
             "#276419"
            ]
           ],
           "sequential": [
            [
             0,
             "#0d0887"
            ],
            [
             0.1111111111111111,
             "#46039f"
            ],
            [
             0.2222222222222222,
             "#7201a8"
            ],
            [
             0.3333333333333333,
             "#9c179e"
            ],
            [
             0.4444444444444444,
             "#bd3786"
            ],
            [
             0.5555555555555556,
             "#d8576b"
            ],
            [
             0.6666666666666666,
             "#ed7953"
            ],
            [
             0.7777777777777778,
             "#fb9f3a"
            ],
            [
             0.8888888888888888,
             "#fdca26"
            ],
            [
             1,
             "#f0f921"
            ]
           ],
           "sequentialminus": [
            [
             0,
             "#0d0887"
            ],
            [
             0.1111111111111111,
             "#46039f"
            ],
            [
             0.2222222222222222,
             "#7201a8"
            ],
            [
             0.3333333333333333,
             "#9c179e"
            ],
            [
             0.4444444444444444,
             "#bd3786"
            ],
            [
             0.5555555555555556,
             "#d8576b"
            ],
            [
             0.6666666666666666,
             "#ed7953"
            ],
            [
             0.7777777777777778,
             "#fb9f3a"
            ],
            [
             0.8888888888888888,
             "#fdca26"
            ],
            [
             1,
             "#f0f921"
            ]
           ]
          },
          "colorway": [
           "#636efa",
           "#EF553B",
           "#00cc96",
           "#ab63fa",
           "#FFA15A",
           "#19d3f3",
           "#FF6692",
           "#B6E880",
           "#FF97FF",
           "#FECB52"
          ],
          "font": {
           "color": "#2a3f5f"
          },
          "geo": {
           "bgcolor": "white",
           "lakecolor": "white",
           "landcolor": "#E5ECF6",
           "showlakes": true,
           "showland": true,
           "subunitcolor": "white"
          },
          "hoverlabel": {
           "align": "left"
          },
          "hovermode": "closest",
          "mapbox": {
           "style": "light"
          },
          "paper_bgcolor": "white",
          "plot_bgcolor": "#E5ECF6",
          "polar": {
           "angularaxis": {
            "gridcolor": "white",
            "linecolor": "white",
            "ticks": ""
           },
           "bgcolor": "#E5ECF6",
           "radialaxis": {
            "gridcolor": "white",
            "linecolor": "white",
            "ticks": ""
           }
          },
          "scene": {
           "xaxis": {
            "backgroundcolor": "#E5ECF6",
            "gridcolor": "white",
            "gridwidth": 2,
            "linecolor": "white",
            "showbackground": true,
            "ticks": "",
            "zerolinecolor": "white"
           },
           "yaxis": {
            "backgroundcolor": "#E5ECF6",
            "gridcolor": "white",
            "gridwidth": 2,
            "linecolor": "white",
            "showbackground": true,
            "ticks": "",
            "zerolinecolor": "white"
           },
           "zaxis": {
            "backgroundcolor": "#E5ECF6",
            "gridcolor": "white",
            "gridwidth": 2,
            "linecolor": "white",
            "showbackground": true,
            "ticks": "",
            "zerolinecolor": "white"
           }
          },
          "shapedefaults": {
           "line": {
            "color": "#2a3f5f"
           }
          },
          "ternary": {
           "aaxis": {
            "gridcolor": "white",
            "linecolor": "white",
            "ticks": ""
           },
           "baxis": {
            "gridcolor": "white",
            "linecolor": "white",
            "ticks": ""
           },
           "bgcolor": "#E5ECF6",
           "caxis": {
            "gridcolor": "white",
            "linecolor": "white",
            "ticks": ""
           }
          },
          "title": {
           "x": 0.05
          },
          "xaxis": {
           "automargin": true,
           "gridcolor": "white",
           "linecolor": "white",
           "ticks": "",
           "title": {
            "standoff": 15
           },
           "zerolinecolor": "white",
           "zerolinewidth": 2
          },
          "yaxis": {
           "automargin": true,
           "gridcolor": "white",
           "linecolor": "white",
           "ticks": "",
           "title": {
            "standoff": 15
           },
           "zerolinecolor": "white",
           "zerolinewidth": 2
          }
         }
        }
       }
      }
     },
     "metadata": {},
     "output_type": "display_data"
    }
   ],
   "source": [
    "plot_cube(cube_sol)"
   ]
  },
  {
   "cell_type": "code",
   "execution_count": 5,
   "metadata": {},
   "outputs": [
    {
     "name": "stdout",
     "output_type": "stream",
     "text": [
      "list_dir :\n",
      "['y', '-z', '-y', 'x', 'z']\n",
      "------------\n",
      "[[[0 1 0]\n",
      "  [1 1 0]\n",
      "  [1 1 0]]\n",
      "\n",
      " [[0 0 0]\n",
      "  [1 0 0]\n",
      "  [0 0 0]]\n",
      "\n",
      " [[0 0 0]\n",
      "  [1 1 0]\n",
      "  [0 0 0]]]\n"
     ]
    }
   ],
   "source": [
    "print(\"list_dir :\")\n",
    "print(cube_sol.list_dir)\n",
    "print(\"------------\")\n",
    "print(cube_sol.M)"
   ]
  },
  {
   "cell_type": "code",
   "execution_count": 6,
   "metadata": {},
   "outputs": [],
   "source": [
    "# break_all = False\n",
    "# for i in range(3):\n",
    "#     if break_all : break\n",
    "#     for j in range(3):\n",
    "#         if break_all : break\n",
    "#         for k in range(3):\n",
    "#             if break_all : break\n",
    "#             cube_sol = solve(snake4,size=4,start_point=(i,j,k))\n",
    "#             print(f\"\\n=================({i},{j},{k})\")\n",
    "#             # if cube_sol is not None : break_all = True\n",
    "#             if 0 not in cube_sol.M : break_all = True"
   ]
  },
  {
   "cell_type": "code",
   "execution_count": 79,
   "metadata": {},
   "outputs": [
    {
     "name": "stdout",
     "output_type": "stream",
     "text": [
      "#45\n",
      "#44\n",
      "#43\n",
      "#42\n",
      "#41\n",
      "#40\n",
      "#39\n",
      "#38\n",
      "#37\n",
      "#36\n",
      "#35\n",
      "#34\n",
      "#33\n",
      "#.#.#.#32\n",
      "#31\n",
      "#30\n",
      "#29\n",
      "##28\n",
      "#27\n",
      "#26\n",
      "#25\n",
      "#24\n",
      "#23\n",
      "#22\n",
      "#21\n",
      "#20\n",
      "#19\n",
      "#18\n",
      "#17\n",
      "#16\n",
      "#15\n",
      "#14\n",
      "#13\n",
      "#12\n",
      "#11\n",
      "#10\n",
      "#9\n",
      "####8\n",
      "#####7\n",
      "#6\n",
      "###.......###...............................##.##....#####...############....#######################........#..#.#....###.................#.#..#.#.#.#.#####################........#########.####.##....##############.#.#.###.#.#####.#.#.###.#................############.########.######5\n",
      "#4\n",
      "####..##..................................................................................................................................................................................................................................................................................................................................................................................................................##.................................................................................................................................................................................................................................................................................................................................................................................................................................................................................................................................................................................................####.............................................................................................................................................................................................................................................................................................................................................................................................#Solution\n"
     ]
    }
   ],
   "source": [
    "cube_sol = solve(snake4,size=4,start_point=(0,0,1),stop_len=3)"
   ]
  },
  {
   "cell_type": "code",
   "execution_count": 33,
   "metadata": {},
   "outputs": [
    {
     "data": {
      "application/vnd.plotly.v1+json": {
       "config": {
        "plotlyServerURL": "https://plot.ly"
       },
       "data": [
        {
         "marker": {
          "color": "#555",
          "opacity": 0.8,
          "size": 12
         },
         "mode": "markers",
         "type": "scatter3d",
         "x": [
          0,
          0,
          0,
          0,
          0,
          0,
          0,
          0,
          0,
          0,
          0,
          0,
          0,
          0,
          0,
          0,
          1,
          1,
          1,
          1,
          1,
          1,
          1,
          1,
          1,
          1,
          1,
          1,
          1,
          1,
          1,
          1,
          2,
          2,
          2,
          2,
          2,
          2,
          2,
          2,
          2,
          2,
          2,
          2,
          2,
          2,
          2,
          2,
          3,
          3,
          3,
          3,
          3,
          3,
          3,
          3,
          3,
          3,
          3,
          3,
          3,
          3,
          3,
          3
         ],
         "y": [
          0,
          0,
          0,
          0,
          1,
          1,
          1,
          1,
          2,
          2,
          2,
          2,
          3,
          3,
          3,
          3,
          0,
          0,
          0,
          0,
          1,
          1,
          1,
          1,
          2,
          2,
          2,
          2,
          3,
          3,
          3,
          3,
          0,
          0,
          0,
          0,
          1,
          1,
          1,
          1,
          2,
          2,
          2,
          2,
          3,
          3,
          3,
          3,
          0,
          0,
          0,
          0,
          1,
          1,
          1,
          1,
          2,
          2,
          2,
          2,
          3,
          3,
          3,
          3
         ],
         "z": [
          0,
          1,
          2,
          3,
          0,
          1,
          2,
          3,
          0,
          1,
          2,
          3,
          0,
          1,
          2,
          3,
          0,
          1,
          2,
          3,
          0,
          1,
          2,
          3,
          0,
          1,
          2,
          3,
          0,
          1,
          2,
          3,
          0,
          1,
          2,
          3,
          0,
          1,
          2,
          3,
          0,
          1,
          2,
          3,
          0,
          1,
          2,
          3,
          0,
          1,
          2,
          3,
          0,
          1,
          2,
          3,
          0,
          1,
          2,
          3,
          0,
          1,
          2,
          3
         ]
        },
        {
         "marker": {
          "color": "#0a0",
          "opacity": 0.5,
          "size": 12
         },
         "mode": "markers",
         "type": "scatter3d",
         "x": [
          0,
          1,
          1,
          1,
          1,
          2,
          2,
          3,
          3
         ],
         "y": [
          0,
          0,
          1,
          2,
          3,
          2,
          3,
          2,
          3
         ],
         "z": [
          1,
          1,
          1,
          1,
          1,
          1,
          1,
          1,
          1
         ]
        },
        {
         "marker": {
          "color": "#f00",
          "opacity": 0.5,
          "size": 12
         },
         "mode": "markers",
         "type": "scatter3d",
         "x": [],
         "y": [],
         "z": []
        },
        {
         "marker": {
          "color": "#000",
          "opacity": 1,
          "size": 12
         },
         "mode": "markers",
         "type": "scatter3d",
         "x": [],
         "y": [],
         "z": []
        },
        {
         "marker": {
          "color": "#0aa",
          "opacity": 0.5,
          "size": 18
         },
         "mode": "markers",
         "type": "scatter3d",
         "x": [
          3
         ],
         "y": [
          3
         ],
         "z": [
          1
         ]
        },
        {
         "marker": {
          "color": "#0f0",
          "opacity": 0.5,
          "size": 18
         },
         "mode": "markers",
         "type": "scatter3d",
         "x": [
          0
         ],
         "y": [
          0
         ],
         "z": [
          0
         ]
        }
       ],
       "layout": {
        "margin": {
         "b": 0,
         "l": 0,
         "r": 0,
         "t": 0
        },
        "template": {
         "data": {
          "bar": [
           {
            "error_x": {
             "color": "#2a3f5f"
            },
            "error_y": {
             "color": "#2a3f5f"
            },
            "marker": {
             "line": {
              "color": "#E5ECF6",
              "width": 0.5
             },
             "pattern": {
              "fillmode": "overlay",
              "size": 10,
              "solidity": 0.2
             }
            },
            "type": "bar"
           }
          ],
          "barpolar": [
           {
            "marker": {
             "line": {
              "color": "#E5ECF6",
              "width": 0.5
             },
             "pattern": {
              "fillmode": "overlay",
              "size": 10,
              "solidity": 0.2
             }
            },
            "type": "barpolar"
           }
          ],
          "carpet": [
           {
            "aaxis": {
             "endlinecolor": "#2a3f5f",
             "gridcolor": "white",
             "linecolor": "white",
             "minorgridcolor": "white",
             "startlinecolor": "#2a3f5f"
            },
            "baxis": {
             "endlinecolor": "#2a3f5f",
             "gridcolor": "white",
             "linecolor": "white",
             "minorgridcolor": "white",
             "startlinecolor": "#2a3f5f"
            },
            "type": "carpet"
           }
          ],
          "choropleth": [
           {
            "colorbar": {
             "outlinewidth": 0,
             "ticks": ""
            },
            "type": "choropleth"
           }
          ],
          "contour": [
           {
            "colorbar": {
             "outlinewidth": 0,
             "ticks": ""
            },
            "colorscale": [
             [
              0,
              "#0d0887"
             ],
             [
              0.1111111111111111,
              "#46039f"
             ],
             [
              0.2222222222222222,
              "#7201a8"
             ],
             [
              0.3333333333333333,
              "#9c179e"
             ],
             [
              0.4444444444444444,
              "#bd3786"
             ],
             [
              0.5555555555555556,
              "#d8576b"
             ],
             [
              0.6666666666666666,
              "#ed7953"
             ],
             [
              0.7777777777777778,
              "#fb9f3a"
             ],
             [
              0.8888888888888888,
              "#fdca26"
             ],
             [
              1,
              "#f0f921"
             ]
            ],
            "type": "contour"
           }
          ],
          "contourcarpet": [
           {
            "colorbar": {
             "outlinewidth": 0,
             "ticks": ""
            },
            "type": "contourcarpet"
           }
          ],
          "heatmap": [
           {
            "colorbar": {
             "outlinewidth": 0,
             "ticks": ""
            },
            "colorscale": [
             [
              0,
              "#0d0887"
             ],
             [
              0.1111111111111111,
              "#46039f"
             ],
             [
              0.2222222222222222,
              "#7201a8"
             ],
             [
              0.3333333333333333,
              "#9c179e"
             ],
             [
              0.4444444444444444,
              "#bd3786"
             ],
             [
              0.5555555555555556,
              "#d8576b"
             ],
             [
              0.6666666666666666,
              "#ed7953"
             ],
             [
              0.7777777777777778,
              "#fb9f3a"
             ],
             [
              0.8888888888888888,
              "#fdca26"
             ],
             [
              1,
              "#f0f921"
             ]
            ],
            "type": "heatmap"
           }
          ],
          "heatmapgl": [
           {
            "colorbar": {
             "outlinewidth": 0,
             "ticks": ""
            },
            "colorscale": [
             [
              0,
              "#0d0887"
             ],
             [
              0.1111111111111111,
              "#46039f"
             ],
             [
              0.2222222222222222,
              "#7201a8"
             ],
             [
              0.3333333333333333,
              "#9c179e"
             ],
             [
              0.4444444444444444,
              "#bd3786"
             ],
             [
              0.5555555555555556,
              "#d8576b"
             ],
             [
              0.6666666666666666,
              "#ed7953"
             ],
             [
              0.7777777777777778,
              "#fb9f3a"
             ],
             [
              0.8888888888888888,
              "#fdca26"
             ],
             [
              1,
              "#f0f921"
             ]
            ],
            "type": "heatmapgl"
           }
          ],
          "histogram": [
           {
            "marker": {
             "pattern": {
              "fillmode": "overlay",
              "size": 10,
              "solidity": 0.2
             }
            },
            "type": "histogram"
           }
          ],
          "histogram2d": [
           {
            "colorbar": {
             "outlinewidth": 0,
             "ticks": ""
            },
            "colorscale": [
             [
              0,
              "#0d0887"
             ],
             [
              0.1111111111111111,
              "#46039f"
             ],
             [
              0.2222222222222222,
              "#7201a8"
             ],
             [
              0.3333333333333333,
              "#9c179e"
             ],
             [
              0.4444444444444444,
              "#bd3786"
             ],
             [
              0.5555555555555556,
              "#d8576b"
             ],
             [
              0.6666666666666666,
              "#ed7953"
             ],
             [
              0.7777777777777778,
              "#fb9f3a"
             ],
             [
              0.8888888888888888,
              "#fdca26"
             ],
             [
              1,
              "#f0f921"
             ]
            ],
            "type": "histogram2d"
           }
          ],
          "histogram2dcontour": [
           {
            "colorbar": {
             "outlinewidth": 0,
             "ticks": ""
            },
            "colorscale": [
             [
              0,
              "#0d0887"
             ],
             [
              0.1111111111111111,
              "#46039f"
             ],
             [
              0.2222222222222222,
              "#7201a8"
             ],
             [
              0.3333333333333333,
              "#9c179e"
             ],
             [
              0.4444444444444444,
              "#bd3786"
             ],
             [
              0.5555555555555556,
              "#d8576b"
             ],
             [
              0.6666666666666666,
              "#ed7953"
             ],
             [
              0.7777777777777778,
              "#fb9f3a"
             ],
             [
              0.8888888888888888,
              "#fdca26"
             ],
             [
              1,
              "#f0f921"
             ]
            ],
            "type": "histogram2dcontour"
           }
          ],
          "mesh3d": [
           {
            "colorbar": {
             "outlinewidth": 0,
             "ticks": ""
            },
            "type": "mesh3d"
           }
          ],
          "parcoords": [
           {
            "line": {
             "colorbar": {
              "outlinewidth": 0,
              "ticks": ""
             }
            },
            "type": "parcoords"
           }
          ],
          "pie": [
           {
            "automargin": true,
            "type": "pie"
           }
          ],
          "scatter": [
           {
            "fillpattern": {
             "fillmode": "overlay",
             "size": 10,
             "solidity": 0.2
            },
            "type": "scatter"
           }
          ],
          "scatter3d": [
           {
            "line": {
             "colorbar": {
              "outlinewidth": 0,
              "ticks": ""
             }
            },
            "marker": {
             "colorbar": {
              "outlinewidth": 0,
              "ticks": ""
             }
            },
            "type": "scatter3d"
           }
          ],
          "scattercarpet": [
           {
            "marker": {
             "colorbar": {
              "outlinewidth": 0,
              "ticks": ""
             }
            },
            "type": "scattercarpet"
           }
          ],
          "scattergeo": [
           {
            "marker": {
             "colorbar": {
              "outlinewidth": 0,
              "ticks": ""
             }
            },
            "type": "scattergeo"
           }
          ],
          "scattergl": [
           {
            "marker": {
             "colorbar": {
              "outlinewidth": 0,
              "ticks": ""
             }
            },
            "type": "scattergl"
           }
          ],
          "scattermapbox": [
           {
            "marker": {
             "colorbar": {
              "outlinewidth": 0,
              "ticks": ""
             }
            },
            "type": "scattermapbox"
           }
          ],
          "scatterpolar": [
           {
            "marker": {
             "colorbar": {
              "outlinewidth": 0,
              "ticks": ""
             }
            },
            "type": "scatterpolar"
           }
          ],
          "scatterpolargl": [
           {
            "marker": {
             "colorbar": {
              "outlinewidth": 0,
              "ticks": ""
             }
            },
            "type": "scatterpolargl"
           }
          ],
          "scatterternary": [
           {
            "marker": {
             "colorbar": {
              "outlinewidth": 0,
              "ticks": ""
             }
            },
            "type": "scatterternary"
           }
          ],
          "surface": [
           {
            "colorbar": {
             "outlinewidth": 0,
             "ticks": ""
            },
            "colorscale": [
             [
              0,
              "#0d0887"
             ],
             [
              0.1111111111111111,
              "#46039f"
             ],
             [
              0.2222222222222222,
              "#7201a8"
             ],
             [
              0.3333333333333333,
              "#9c179e"
             ],
             [
              0.4444444444444444,
              "#bd3786"
             ],
             [
              0.5555555555555556,
              "#d8576b"
             ],
             [
              0.6666666666666666,
              "#ed7953"
             ],
             [
              0.7777777777777778,
              "#fb9f3a"
             ],
             [
              0.8888888888888888,
              "#fdca26"
             ],
             [
              1,
              "#f0f921"
             ]
            ],
            "type": "surface"
           }
          ],
          "table": [
           {
            "cells": {
             "fill": {
              "color": "#EBF0F8"
             },
             "line": {
              "color": "white"
             }
            },
            "header": {
             "fill": {
              "color": "#C8D4E3"
             },
             "line": {
              "color": "white"
             }
            },
            "type": "table"
           }
          ]
         },
         "layout": {
          "annotationdefaults": {
           "arrowcolor": "#2a3f5f",
           "arrowhead": 0,
           "arrowwidth": 1
          },
          "autotypenumbers": "strict",
          "coloraxis": {
           "colorbar": {
            "outlinewidth": 0,
            "ticks": ""
           }
          },
          "colorscale": {
           "diverging": [
            [
             0,
             "#8e0152"
            ],
            [
             0.1,
             "#c51b7d"
            ],
            [
             0.2,
             "#de77ae"
            ],
            [
             0.3,
             "#f1b6da"
            ],
            [
             0.4,
             "#fde0ef"
            ],
            [
             0.5,
             "#f7f7f7"
            ],
            [
             0.6,
             "#e6f5d0"
            ],
            [
             0.7,
             "#b8e186"
            ],
            [
             0.8,
             "#7fbc41"
            ],
            [
             0.9,
             "#4d9221"
            ],
            [
             1,
             "#276419"
            ]
           ],
           "sequential": [
            [
             0,
             "#0d0887"
            ],
            [
             0.1111111111111111,
             "#46039f"
            ],
            [
             0.2222222222222222,
             "#7201a8"
            ],
            [
             0.3333333333333333,
             "#9c179e"
            ],
            [
             0.4444444444444444,
             "#bd3786"
            ],
            [
             0.5555555555555556,
             "#d8576b"
            ],
            [
             0.6666666666666666,
             "#ed7953"
            ],
            [
             0.7777777777777778,
             "#fb9f3a"
            ],
            [
             0.8888888888888888,
             "#fdca26"
            ],
            [
             1,
             "#f0f921"
            ]
           ],
           "sequentialminus": [
            [
             0,
             "#0d0887"
            ],
            [
             0.1111111111111111,
             "#46039f"
            ],
            [
             0.2222222222222222,
             "#7201a8"
            ],
            [
             0.3333333333333333,
             "#9c179e"
            ],
            [
             0.4444444444444444,
             "#bd3786"
            ],
            [
             0.5555555555555556,
             "#d8576b"
            ],
            [
             0.6666666666666666,
             "#ed7953"
            ],
            [
             0.7777777777777778,
             "#fb9f3a"
            ],
            [
             0.8888888888888888,
             "#fdca26"
            ],
            [
             1,
             "#f0f921"
            ]
           ]
          },
          "colorway": [
           "#636efa",
           "#EF553B",
           "#00cc96",
           "#ab63fa",
           "#FFA15A",
           "#19d3f3",
           "#FF6692",
           "#B6E880",
           "#FF97FF",
           "#FECB52"
          ],
          "font": {
           "color": "#2a3f5f"
          },
          "geo": {
           "bgcolor": "white",
           "lakecolor": "white",
           "landcolor": "#E5ECF6",
           "showlakes": true,
           "showland": true,
           "subunitcolor": "white"
          },
          "hoverlabel": {
           "align": "left"
          },
          "hovermode": "closest",
          "mapbox": {
           "style": "light"
          },
          "paper_bgcolor": "white",
          "plot_bgcolor": "#E5ECF6",
          "polar": {
           "angularaxis": {
            "gridcolor": "white",
            "linecolor": "white",
            "ticks": ""
           },
           "bgcolor": "#E5ECF6",
           "radialaxis": {
            "gridcolor": "white",
            "linecolor": "white",
            "ticks": ""
           }
          },
          "scene": {
           "xaxis": {
            "backgroundcolor": "#E5ECF6",
            "gridcolor": "white",
            "gridwidth": 2,
            "linecolor": "white",
            "showbackground": true,
            "ticks": "",
            "zerolinecolor": "white"
           },
           "yaxis": {
            "backgroundcolor": "#E5ECF6",
            "gridcolor": "white",
            "gridwidth": 2,
            "linecolor": "white",
            "showbackground": true,
            "ticks": "",
            "zerolinecolor": "white"
           },
           "zaxis": {
            "backgroundcolor": "#E5ECF6",
            "gridcolor": "white",
            "gridwidth": 2,
            "linecolor": "white",
            "showbackground": true,
            "ticks": "",
            "zerolinecolor": "white"
           }
          },
          "shapedefaults": {
           "line": {
            "color": "#2a3f5f"
           }
          },
          "ternary": {
           "aaxis": {
            "gridcolor": "white",
            "linecolor": "white",
            "ticks": ""
           },
           "baxis": {
            "gridcolor": "white",
            "linecolor": "white",
            "ticks": ""
           },
           "bgcolor": "#E5ECF6",
           "caxis": {
            "gridcolor": "white",
            "linecolor": "white",
            "ticks": ""
           }
          },
          "title": {
           "x": 0.05
          },
          "xaxis": {
           "automargin": true,
           "gridcolor": "white",
           "linecolor": "white",
           "ticks": "",
           "title": {
            "standoff": 15
           },
           "zerolinecolor": "white",
           "zerolinewidth": 2
          },
          "yaxis": {
           "automargin": true,
           "gridcolor": "white",
           "linecolor": "white",
           "ticks": "",
           "title": {
            "standoff": 15
           },
           "zerolinecolor": "white",
           "zerolinewidth": 2
          }
         }
        }
       }
      }
     },
     "metadata": {},
     "output_type": "display_data"
    }
   ],
   "source": [
    "plot_cube(cube_sol,start_point=(0,0,0))"
   ]
  },
  {
   "cell_type": "code",
   "execution_count": 9,
   "metadata": {},
   "outputs": [
    {
     "name": "stdout",
     "output_type": "stream",
     "text": [
      "['x', 'y', 'x', '-y', 'x', 'y', 'z', '-x', '-y', 'x', '-y', 'z', '-y', '-z', 'y', '-x', '-y', 'z', '-x', 'y', '-z', '-y', '-z', 'y', 'x', 'z', '-x', '-z', 'y', 'x', 'y', 'x', '-y', 'z', '-x', 'y', '-z', '-x', 'z', '-y', '-z']\n",
      "cube size = 4\n",
      "-z\n",
      "[[[1 1 1 1]\n",
      "  [0 1 1 1]\n",
      "  [1 1 1 1]\n",
      "  [0 1 1 1]]\n",
      "\n",
      " [[1 0 0 1]\n",
      "  [1 1 1 1]\n",
      "  [1 0 1 1]\n",
      "  [1 1 1 1]]\n",
      "\n",
      " [[1 1 1 1]\n",
      "  [1 1 1 1]\n",
      "  [1 1 1 1]\n",
      "  [1 1 1 0]]\n",
      "\n",
      " [[1 1 1 1]\n",
      "  [1 1 1 1]\n",
      "  [1 1 1 1]\n",
      "  [1 1 1 0]]]\n"
     ]
    }
   ],
   "source": [
    "print(cube_sol.list_dir)\n",
    "print(f\"cube size = {cube_sol.size}\")\n",
    "print(cube_sol.prev_dir)\n",
    "print(cube_sol.M)"
   ]
  },
  {
   "cell_type": "code",
   "execution_count": null,
   "metadata": {},
   "outputs": [],
   "source": [
    "size = 4\n",
    "start_point = (0,0,0)\n",
    "cube_init = T_cube( M = np.zeros((size,size,size), dtype=np.int8),\n",
    "                end_pointer = start_point,\n",
    "                prev_dir=None,\n",
    "                size=size)"
   ]
  },
  {
   "cell_type": "code",
   "execution_count": null,
   "metadata": {},
   "outputs": [],
   "source": [
    "print(cube_init.size)"
   ]
  },
  {
   "attachments": {},
   "cell_type": "markdown",
   "metadata": {},
   "source": [
    "# Amelioration"
   ]
  },
  {
   "cell_type": "code",
   "execution_count": 73,
   "metadata": {},
   "outputs": [],
   "source": [
    "def test_no_isolated_blocks(cube:T_cube):\n",
    "    M = cube.M.copy()\n",
    "    # M = cube.M\n",
    "    cube_size = cube.size\n",
    "    x,y,z = cube.end_pointer\n",
    "    M[x,y,z] = 99\n",
    "    while new_neighboor_to_99(M,cube_size): pass\n",
    "    return 0 not in M\n",
    "    \n",
    "\n",
    "\n",
    "def new_neighboor_to_99(M:np.ndarray,cube_size:int):\n",
    "    N1,N2,N3 = M.shape\n",
    "    modif = False\n",
    "    for x in range(N1):\n",
    "        for y in range(N2):\n",
    "            for z in range(N3):\n",
    "                if M[x,y,z]==99 : \n",
    "                    for xx,yy,zz in neighboor((x,y,z),cube_size):\n",
    "                        # print(xx,yy,zz)\n",
    "                        if M[xx,yy,zz] == 0:\n",
    "                            # print(\"#\")\n",
    "                            modif = True\n",
    "                            M[xx,yy,zz]=99\n",
    "    # print('.',end='')\n",
    "    return modif\n",
    "                    \n",
    "\n",
    "\n",
    "def neighboor(index:tuple[int],cube_size:int):\n",
    "    x,y,z = index\n",
    "    arr_index = np.array(index)\n",
    "    Vx = np.array([1,0,0])\n",
    "    Vy = np.array([0,1,0])\n",
    "    Vz = np.array([0,0,1])\n",
    "\n",
    "    n1 = arr_index + Vx\n",
    "    n2 = arr_index + Vy\n",
    "    n3 = arr_index + Vz\n",
    "    n4 = arr_index - Vx\n",
    "    n5 = arr_index - Vy\n",
    "    n6 = arr_index - Vz\n",
    "\n",
    "    l = [   neigh\n",
    "            for neigh in [n1, n2, n3, n4, n5, n6]\n",
    "            if -1 not in neigh and cube_size not in neigh]\n",
    "    return l\n",
    "\n"
   ]
  },
  {
   "cell_type": "code",
   "execution_count": 74,
   "metadata": {},
   "outputs": [
    {
     "data": {
      "text/plain": [
       "True"
      ]
     },
     "execution_count": 74,
     "metadata": {},
     "output_type": "execute_result"
    }
   ],
   "source": [
    "test_no_isolated_blocks(cube_sol)"
   ]
  },
  {
   "cell_type": "code",
   "execution_count": 75,
   "metadata": {},
   "outputs": [
    {
     "name": "stdout",
     "output_type": "stream",
     "text": [
      "(2, 3, 3)\n"
     ]
    },
    {
     "data": {
      "text/plain": [
       "102"
      ]
     },
     "execution_count": 75,
     "metadata": {},
     "output_type": "execute_result"
    }
   ],
   "source": [
    "print(cube_sol.end_pointer)\n",
    "cube_sol.M[3,3,0]"
   ]
  },
  {
   "cell_type": "code",
   "execution_count": 80,
   "metadata": {},
   "outputs": [],
   "source": [
    "\n",
    "def rec_solver2( cube : T_cube,\n",
    "\t\t\t\tsnake : list[int],\n",
    "\t\t\t\tminimal_len : int,\n",
    "\t\t\t\tstop_len : int) -> bool:\n",
    "\t\"\"\"\n",
    "\tReturn\n",
    "\t------\n",
    "\t`sol_found` : bool\n",
    "\t`cube_sol` : T_cube | None\n",
    "\t`minimum_len` : int\n",
    "\t`stop_len` : int\n",
    "\t\"\"\"\n",
    "\n",
    "\n",
    "\t\n",
    "\tN = len(snake)\n",
    "\tif N == stop_len :\n",
    "\t\tprint(\"Solution\")\n",
    "\t\treturn True,cube,0\n",
    "\n",
    "\tif N < minimal_len :\n",
    "\t\tprint(N)\n",
    "\t\tminimal_len = N\n",
    "\tif N == minimal_len :\n",
    "\t\tprint('#',end='')\n",
    "\n",
    "\tif not test_no_isolated_blocks(cube):\n",
    "\t\treturn False,cube,minimal_len\n",
    "\n",
    "\tsnake = snake.copy()\n",
    "\tline = snake.pop(0)\n",
    "\tl_new_dir = dir_possibilities(cube,line)\n",
    "\n",
    "\n",
    "\tcube_sol = None\n",
    "\tfor dir in l_new_dir:\n",
    "\t\ttest_ok,new_cube = add_to_cube(cube,line,dir)\n",
    "\t\tif test_ok: \n",
    "\t\t\t# new_cube.list_dir.append(dir)\n",
    "\t\t\tsol_found,cube_sol,minimal_len_2 = rec_solver2(\tcube = new_cube,\n",
    "\t\t\t\t\t\t\t\t\t\t\t\t\t\t\tsnake = snake,\n",
    "\t\t\t\t\t\t\t\t\t\t\t\t\t\t\tminimal_len = minimal_len,\n",
    "\t\t\t\t\t\t\t\t\t\t\t\t\t\t\tstop_len = stop_len)\n",
    "\t\t\tif minimal_len_2 < minimal_len :\n",
    "\t\t\t\tminimal_len = minimal_len_2\n",
    "\t\t\tif sol_found :\n",
    "\t\t\t\treturn True,cube_sol,0\n",
    "\tif l_new_dir == [] : print(\".\",end='')\n",
    "\tif cube_sol is None :\n",
    "\t\treturn False,cube,minimal_len\n",
    "\treturn False,cube_sol,minimal_len_2\n",
    "\n",
    "\n",
    "\n",
    "\n",
    "def solve2(snake:list[int],size,start_point = (0,0,0),stop_len = 0)->T_cube:\n",
    "\tcube_init = T_cube( M = np.zeros((size,size,size), dtype=np.int8),\n",
    "\t\t\t\t\tend_pointer = start_point,\n",
    "\t\t\t\t\tprev_dir=None,\n",
    "\t\t\t\t\tsize=size)\n",
    "\tx,y,z = start_point\n",
    "\tcube_init.M[x,y,z] = 1\n",
    "\tsol_found,cube_sol,minimum_len = rec_solver2(cube = cube_init,\n",
    "\t\t\t\t\t\t\t\t\t\t\t\tsnake = snake,\n",
    "\t\t\t\t\t\t\t\t\t\t\t\tminimal_len = len(snake),\n",
    "\t\t\t\t\t\t\t\t\t\t\t\tstop_len = stop_len)\n",
    "\treturn cube_sol\n",
    "\n"
   ]
  },
  {
   "cell_type": "code",
   "execution_count": 98,
   "metadata": {},
   "outputs": [
    {
     "name": "stdout",
     "output_type": "stream",
     "text": [
      "#45\n",
      "#44\n",
      "#43\n",
      "#42\n",
      "#41\n",
      "#40\n",
      "#39\n",
      "#38\n",
      "#37\n",
      "#36\n",
      "#35\n",
      "#34\n",
      "#33\n",
      "#.#.#.#32\n",
      "#31\n",
      "#30\n",
      "#29\n",
      "#28\n",
      "#27\n",
      "#26\n",
      "#25\n",
      "#24\n",
      "#23\n",
      "#22\n",
      "#21\n",
      "#20\n",
      "#19\n",
      "#18\n",
      "#17\n",
      "#16\n",
      "#15\n",
      "#14\n",
      "#13\n",
      "#12\n",
      "#11\n",
      "#10\n",
      "#9\n",
      "##8\n",
      "####7\n",
      "#6\n",
      "#########################################################################################........#.#####.##################.#.#########.#.##########....##..################.#####.############.#.#####.####################.#####.#######.###.#####.##################.##.##.##########.#.#.#.########5\n",
      "#4\n",
      "#######3\n",
      "###...####.....#......#..#..#######...............##.......##...###......#########........######....#####................................................................................................................................................................................................................................................................."
     ]
    },
    {
     "ename": "KeyboardInterrupt",
     "evalue": "",
     "output_type": "error",
     "traceback": [
      "\u001b[1;31m---------------------------------------------------------------------------\u001b[0m",
      "\u001b[1;31mKeyboardInterrupt\u001b[0m                         Traceback (most recent call last)",
      "Cell \u001b[1;32mIn[98], line 1\u001b[0m\n\u001b[1;32m----> 1\u001b[0m cube_sol \u001b[39m=\u001b[39m solve(snake4,size\u001b[39m=\u001b[39;49m\u001b[39m4\u001b[39;49m,start_point\u001b[39m=\u001b[39;49m(\u001b[39m0\u001b[39;49m,\u001b[39m0\u001b[39;49m,\u001b[39m0\u001b[39;49m),stop_len\u001b[39m=\u001b[39;49m\u001b[39m1\u001b[39;49m)\n",
      "File \u001b[1;32mc:\\Users\\alomb\\OneDrive\\new_racine\\Documents\\CODE\\Perso\\snake-cube\\solver_back.py:167\u001b[0m, in \u001b[0;36msolve\u001b[1;34m(snake, size, start_point, stop_len)\u001b[0m\n\u001b[0;32m    165\u001b[0m x,y,z \u001b[39m=\u001b[39m start_point\n\u001b[0;32m    166\u001b[0m cube_init\u001b[39m.\u001b[39mM[x,y,z] \u001b[39m=\u001b[39m \u001b[39m1\u001b[39m\n\u001b[1;32m--> 167\u001b[0m sol_found,cube_sol,minimum_len \u001b[39m=\u001b[39m rec_solver(cube \u001b[39m=\u001b[39;49m cube_init,\n\u001b[0;32m    168\u001b[0m \t\t\t\t\t\t\t\t\t\t\tsnake \u001b[39m=\u001b[39;49m snake,\n\u001b[0;32m    169\u001b[0m \t\t\t\t\t\t\t\t\t\t\tminimal_len \u001b[39m=\u001b[39;49m \u001b[39mlen\u001b[39;49m(snake),\n\u001b[0;32m    170\u001b[0m \t\t\t\t\t\t\t\t\t\t\tstop_len \u001b[39m=\u001b[39;49m stop_len)\n\u001b[0;32m    171\u001b[0m \u001b[39mreturn\u001b[39;00m cube_sol\n",
      "File \u001b[1;32mc:\\Users\\alomb\\OneDrive\\new_racine\\Documents\\CODE\\Perso\\snake-cube\\solver_back.py:146\u001b[0m, in \u001b[0;36mrec_solver\u001b[1;34m(cube, snake, minimal_len, stop_len)\u001b[0m\n\u001b[0;32m    143\u001b[0m test_ok,new_cube \u001b[39m=\u001b[39m add_to_cube(cube,line,\u001b[39mdir\u001b[39m)\n\u001b[0;32m    144\u001b[0m \u001b[39mif\u001b[39;00m test_ok: \n\u001b[0;32m    145\u001b[0m \t\u001b[39m# new_cube.list_dir.append(dir)\u001b[39;00m\n\u001b[1;32m--> 146\u001b[0m \tsol_found,cube_sol,minimal_len_2 \u001b[39m=\u001b[39m rec_solver(\tcube \u001b[39m=\u001b[39;49m new_cube,\n\u001b[0;32m    147\u001b[0m \t\t\t\t\t\t\t\t\t\t\t\t\tsnake \u001b[39m=\u001b[39;49m snake,\n\u001b[0;32m    148\u001b[0m \t\t\t\t\t\t\t\t\t\t\t\t\tminimal_len \u001b[39m=\u001b[39;49m minimal_len,\n\u001b[0;32m    149\u001b[0m \t\t\t\t\t\t\t\t\t\t\t\t\tstop_len \u001b[39m=\u001b[39;49m stop_len)\n\u001b[0;32m    150\u001b[0m \t\u001b[39mif\u001b[39;00m minimal_len_2 \u001b[39m<\u001b[39m minimal_len :\n\u001b[0;32m    151\u001b[0m \t\tminimal_len \u001b[39m=\u001b[39m minimal_len_2\n",
      "File \u001b[1;32mc:\\Users\\alomb\\OneDrive\\new_racine\\Documents\\CODE\\Perso\\snake-cube\\solver_back.py:146\u001b[0m, in \u001b[0;36mrec_solver\u001b[1;34m(cube, snake, minimal_len, stop_len)\u001b[0m\n\u001b[0;32m    143\u001b[0m test_ok,new_cube \u001b[39m=\u001b[39m add_to_cube(cube,line,\u001b[39mdir\u001b[39m)\n\u001b[0;32m    144\u001b[0m \u001b[39mif\u001b[39;00m test_ok: \n\u001b[0;32m    145\u001b[0m \t\u001b[39m# new_cube.list_dir.append(dir)\u001b[39;00m\n\u001b[1;32m--> 146\u001b[0m \tsol_found,cube_sol,minimal_len_2 \u001b[39m=\u001b[39m rec_solver(\tcube \u001b[39m=\u001b[39;49m new_cube,\n\u001b[0;32m    147\u001b[0m \t\t\t\t\t\t\t\t\t\t\t\t\tsnake \u001b[39m=\u001b[39;49m snake,\n\u001b[0;32m    148\u001b[0m \t\t\t\t\t\t\t\t\t\t\t\t\tminimal_len \u001b[39m=\u001b[39;49m minimal_len,\n\u001b[0;32m    149\u001b[0m \t\t\t\t\t\t\t\t\t\t\t\t\tstop_len \u001b[39m=\u001b[39;49m stop_len)\n\u001b[0;32m    150\u001b[0m \t\u001b[39mif\u001b[39;00m minimal_len_2 \u001b[39m<\u001b[39m minimal_len :\n\u001b[0;32m    151\u001b[0m \t\tminimal_len \u001b[39m=\u001b[39m minimal_len_2\n",
      "    \u001b[1;31m[... skipping similar frames: rec_solver at line 146 (27 times)]\u001b[0m\n",
      "File \u001b[1;32mc:\\Users\\alomb\\OneDrive\\new_racine\\Documents\\CODE\\Perso\\snake-cube\\solver_back.py:146\u001b[0m, in \u001b[0;36mrec_solver\u001b[1;34m(cube, snake, minimal_len, stop_len)\u001b[0m\n\u001b[0;32m    143\u001b[0m test_ok,new_cube \u001b[39m=\u001b[39m add_to_cube(cube,line,\u001b[39mdir\u001b[39m)\n\u001b[0;32m    144\u001b[0m \u001b[39mif\u001b[39;00m test_ok: \n\u001b[0;32m    145\u001b[0m \t\u001b[39m# new_cube.list_dir.append(dir)\u001b[39;00m\n\u001b[1;32m--> 146\u001b[0m \tsol_found,cube_sol,minimal_len_2 \u001b[39m=\u001b[39m rec_solver(\tcube \u001b[39m=\u001b[39;49m new_cube,\n\u001b[0;32m    147\u001b[0m \t\t\t\t\t\t\t\t\t\t\t\t\tsnake \u001b[39m=\u001b[39;49m snake,\n\u001b[0;32m    148\u001b[0m \t\t\t\t\t\t\t\t\t\t\t\t\tminimal_len \u001b[39m=\u001b[39;49m minimal_len,\n\u001b[0;32m    149\u001b[0m \t\t\t\t\t\t\t\t\t\t\t\t\tstop_len \u001b[39m=\u001b[39;49m stop_len)\n\u001b[0;32m    150\u001b[0m \t\u001b[39mif\u001b[39;00m minimal_len_2 \u001b[39m<\u001b[39m minimal_len :\n\u001b[0;32m    151\u001b[0m \t\tminimal_len \u001b[39m=\u001b[39m minimal_len_2\n",
      "File \u001b[1;32mc:\\Users\\alomb\\OneDrive\\new_racine\\Documents\\CODE\\Perso\\snake-cube\\solver_back.py:143\u001b[0m, in \u001b[0;36mrec_solver\u001b[1;34m(cube, snake, minimal_len, stop_len)\u001b[0m\n\u001b[0;32m    141\u001b[0m cube_sol \u001b[39m=\u001b[39m \u001b[39mNone\u001b[39;00m\n\u001b[0;32m    142\u001b[0m \u001b[39mfor\u001b[39;00m \u001b[39mdir\u001b[39m \u001b[39min\u001b[39;00m l_new_dir:\n\u001b[1;32m--> 143\u001b[0m \ttest_ok,new_cube \u001b[39m=\u001b[39m add_to_cube(cube,line,\u001b[39mdir\u001b[39;49m)\n\u001b[0;32m    144\u001b[0m \t\u001b[39mif\u001b[39;00m test_ok: \n\u001b[0;32m    145\u001b[0m \t\t\u001b[39m# new_cube.list_dir.append(dir)\u001b[39;00m\n\u001b[0;32m    146\u001b[0m \t\tsol_found,cube_sol,minimal_len_2 \u001b[39m=\u001b[39m rec_solver(\tcube \u001b[39m=\u001b[39m new_cube,\n\u001b[0;32m    147\u001b[0m \t\t\t\t\t\t\t\t\t\t\t\t\t\tsnake \u001b[39m=\u001b[39m snake,\n\u001b[0;32m    148\u001b[0m \t\t\t\t\t\t\t\t\t\t\t\t\t\tminimal_len \u001b[39m=\u001b[39m minimal_len,\n\u001b[0;32m    149\u001b[0m \t\t\t\t\t\t\t\t\t\t\t\t\t\tstop_len \u001b[39m=\u001b[39m stop_len)\n",
      "File \u001b[1;32mc:\\Users\\alomb\\OneDrive\\new_racine\\Documents\\CODE\\Perso\\snake-cube\\solver_back.py:68\u001b[0m, in \u001b[0;36madd_to_cube\u001b[1;34m(cube, line, dir)\u001b[0m\n\u001b[0;32m     67\u001b[0m \u001b[39mdef\u001b[39;00m \u001b[39madd_to_cube\u001b[39m(cube:T_cube,line,\u001b[39mdir\u001b[39m) \u001b[39m-\u001b[39m\u001b[39m>\u001b[39m \u001b[39mtuple\u001b[39m[\u001b[39mbool\u001b[39m,T_cube]:\n\u001b[1;32m---> 68\u001b[0m \tcube__ \u001b[39m=\u001b[39m cube\u001b[39m.\u001b[39;49mcopy()\n\u001b[0;32m     71\u001b[0m \tM \u001b[39m=\u001b[39m cube__\u001b[39m.\u001b[39mM\n\u001b[0;32m     72\u001b[0m \tx,y,z \u001b[39m=\u001b[39m cube__\u001b[39m.\u001b[39mend_pointer\n",
      "File \u001b[1;32mc:\\Users\\alomb\\OneDrive\\new_racine\\Documents\\CODE\\Perso\\snake-cube\\solver_back.py:31\u001b[0m, in \u001b[0;36mT_cube.copy\u001b[1;34m(self)\u001b[0m\n\u001b[0;32m     30\u001b[0m \u001b[39mdef\u001b[39;00m \u001b[39mcopy\u001b[39m(\u001b[39mself\u001b[39m):\n\u001b[1;32m---> 31\u001b[0m \t\u001b[39mreturn\u001b[39;00m T_cube(  M\u001b[39m=\u001b[39m\u001b[39mself\u001b[39;49m\u001b[39m.\u001b[39;49mM\u001b[39m.\u001b[39;49mcopy(),\n\u001b[0;32m     32\u001b[0m \t\t\t\t\tend_pointer\u001b[39m=\u001b[39m\u001b[39mself\u001b[39m\u001b[39m.\u001b[39mend_pointer,\n\u001b[0;32m     33\u001b[0m \t\t\t\t\tprev_dir\u001b[39m=\u001b[39m\u001b[39mself\u001b[39m\u001b[39m.\u001b[39mprev_dir,\n\u001b[0;32m     34\u001b[0m \t\t\t\t\tlist_dir\u001b[39m=\u001b[39m\u001b[39mself\u001b[39m\u001b[39m.\u001b[39mlist_dir\u001b[39m.\u001b[39mcopy(),\n\u001b[0;32m     35\u001b[0m \t\t\t\t\tsize\u001b[39m=\u001b[39m\u001b[39mself\u001b[39m\u001b[39m.\u001b[39msize)\n",
      "\u001b[1;31mKeyboardInterrupt\u001b[0m: "
     ]
    }
   ],
   "source": [
    "cube_sol = solve(snake4,size=4,start_point=(0,0,0),stop_len=1)"
   ]
  },
  {
   "cell_type": "code",
   "execution_count": 109,
   "metadata": {},
   "outputs": [
    {
     "name": "stdout",
     "output_type": "stream",
     "text": [
      "#45\n",
      "#.#44\n",
      "#43\n",
      "#42\n",
      "#41\n",
      "#40\n",
      "#39\n",
      "#38\n",
      "#37\n",
      "#36\n",
      "#35\n",
      "#34\n",
      "#33\n",
      "#.#32\n",
      "#31\n",
      "####30\n",
      "##29\n",
      "######.#28\n",
      "#27\n",
      "#26\n",
      "#25\n",
      "#24\n",
      "#23\n",
      "#22\n",
      "#21\n",
      "#20\n",
      "#19\n",
      "#18\n",
      "#17\n",
      "####.#16\n",
      "#15\n",
      "#14\n",
      "#13\n",
      "#12\n",
      "######11\n",
      "#######.........###10\n",
      "##...###...................."
     ]
    },
    {
     "ename": "KeyboardInterrupt",
     "evalue": "",
     "output_type": "error",
     "traceback": [
      "\u001b[1;31m---------------------------------------------------------------------------\u001b[0m",
      "\u001b[1;31mKeyboardInterrupt\u001b[0m                         Traceback (most recent call last)",
      "Cell \u001b[1;32mIn[109], line 1\u001b[0m\n\u001b[1;32m----> 1\u001b[0m cube_sol \u001b[39m=\u001b[39m solve2(snake4,size\u001b[39m=\u001b[39;49m\u001b[39m4\u001b[39;49m,start_point\u001b[39m=\u001b[39;49m(\u001b[39m0\u001b[39;49m,\u001b[39m1\u001b[39;49m,\u001b[39m1\u001b[39;49m),stop_len\u001b[39m=\u001b[39;49m\u001b[39m6\u001b[39;49m)\n",
      "Cell \u001b[1;32mIn[80], line 63\u001b[0m, in \u001b[0;36msolve2\u001b[1;34m(snake, size, start_point, stop_len)\u001b[0m\n\u001b[0;32m     61\u001b[0m x,y,z \u001b[39m=\u001b[39m start_point\n\u001b[0;32m     62\u001b[0m cube_init\u001b[39m.\u001b[39mM[x,y,z] \u001b[39m=\u001b[39m \u001b[39m1\u001b[39m\n\u001b[1;32m---> 63\u001b[0m sol_found,cube_sol,minimum_len \u001b[39m=\u001b[39m rec_solver2(cube \u001b[39m=\u001b[39;49m cube_init,\n\u001b[0;32m     64\u001b[0m \t\t\t\t\t\t\t\t\t\t\tsnake \u001b[39m=\u001b[39;49m snake,\n\u001b[0;32m     65\u001b[0m \t\t\t\t\t\t\t\t\t\t\tminimal_len \u001b[39m=\u001b[39;49m \u001b[39mlen\u001b[39;49m(snake),\n\u001b[0;32m     66\u001b[0m \t\t\t\t\t\t\t\t\t\t\tstop_len \u001b[39m=\u001b[39;49m stop_len)\n\u001b[0;32m     67\u001b[0m \u001b[39mreturn\u001b[39;00m cube_sol\n",
      "Cell \u001b[1;32mIn[80], line 40\u001b[0m, in \u001b[0;36mrec_solver2\u001b[1;34m(cube, snake, minimal_len, stop_len)\u001b[0m\n\u001b[0;32m     37\u001b[0m test_ok,new_cube \u001b[39m=\u001b[39m add_to_cube(cube,line,\u001b[39mdir\u001b[39m)\n\u001b[0;32m     38\u001b[0m \u001b[39mif\u001b[39;00m test_ok: \n\u001b[0;32m     39\u001b[0m \t\u001b[39m# new_cube.list_dir.append(dir)\u001b[39;00m\n\u001b[1;32m---> 40\u001b[0m \tsol_found,cube_sol,minimal_len_2 \u001b[39m=\u001b[39m rec_solver2(\tcube \u001b[39m=\u001b[39;49m new_cube,\n\u001b[0;32m     41\u001b[0m \t\t\t\t\t\t\t\t\t\t\t\t\tsnake \u001b[39m=\u001b[39;49m snake,\n\u001b[0;32m     42\u001b[0m \t\t\t\t\t\t\t\t\t\t\t\t\tminimal_len \u001b[39m=\u001b[39;49m minimal_len,\n\u001b[0;32m     43\u001b[0m \t\t\t\t\t\t\t\t\t\t\t\t\tstop_len \u001b[39m=\u001b[39;49m stop_len)\n\u001b[0;32m     44\u001b[0m \t\u001b[39mif\u001b[39;00m minimal_len_2 \u001b[39m<\u001b[39m minimal_len :\n\u001b[0;32m     45\u001b[0m \t\tminimal_len \u001b[39m=\u001b[39m minimal_len_2\n",
      "Cell \u001b[1;32mIn[80], line 40\u001b[0m, in \u001b[0;36mrec_solver2\u001b[1;34m(cube, snake, minimal_len, stop_len)\u001b[0m\n\u001b[0;32m     37\u001b[0m test_ok,new_cube \u001b[39m=\u001b[39m add_to_cube(cube,line,\u001b[39mdir\u001b[39m)\n\u001b[0;32m     38\u001b[0m \u001b[39mif\u001b[39;00m test_ok: \n\u001b[0;32m     39\u001b[0m \t\u001b[39m# new_cube.list_dir.append(dir)\u001b[39;00m\n\u001b[1;32m---> 40\u001b[0m \tsol_found,cube_sol,minimal_len_2 \u001b[39m=\u001b[39m rec_solver2(\tcube \u001b[39m=\u001b[39;49m new_cube,\n\u001b[0;32m     41\u001b[0m \t\t\t\t\t\t\t\t\t\t\t\t\tsnake \u001b[39m=\u001b[39;49m snake,\n\u001b[0;32m     42\u001b[0m \t\t\t\t\t\t\t\t\t\t\t\t\tminimal_len \u001b[39m=\u001b[39;49m minimal_len,\n\u001b[0;32m     43\u001b[0m \t\t\t\t\t\t\t\t\t\t\t\t\tstop_len \u001b[39m=\u001b[39;49m stop_len)\n\u001b[0;32m     44\u001b[0m \t\u001b[39mif\u001b[39;00m minimal_len_2 \u001b[39m<\u001b[39m minimal_len :\n\u001b[0;32m     45\u001b[0m \t\tminimal_len \u001b[39m=\u001b[39m minimal_len_2\n",
      "    \u001b[1;31m[... skipping similar frames: rec_solver2 at line 40 (20 times)]\u001b[0m\n",
      "Cell \u001b[1;32mIn[80], line 40\u001b[0m, in \u001b[0;36mrec_solver2\u001b[1;34m(cube, snake, minimal_len, stop_len)\u001b[0m\n\u001b[0;32m     37\u001b[0m test_ok,new_cube \u001b[39m=\u001b[39m add_to_cube(cube,line,\u001b[39mdir\u001b[39m)\n\u001b[0;32m     38\u001b[0m \u001b[39mif\u001b[39;00m test_ok: \n\u001b[0;32m     39\u001b[0m \t\u001b[39m# new_cube.list_dir.append(dir)\u001b[39;00m\n\u001b[1;32m---> 40\u001b[0m \tsol_found,cube_sol,minimal_len_2 \u001b[39m=\u001b[39m rec_solver2(\tcube \u001b[39m=\u001b[39;49m new_cube,\n\u001b[0;32m     41\u001b[0m \t\t\t\t\t\t\t\t\t\t\t\t\tsnake \u001b[39m=\u001b[39;49m snake,\n\u001b[0;32m     42\u001b[0m \t\t\t\t\t\t\t\t\t\t\t\t\tminimal_len \u001b[39m=\u001b[39;49m minimal_len,\n\u001b[0;32m     43\u001b[0m \t\t\t\t\t\t\t\t\t\t\t\t\tstop_len \u001b[39m=\u001b[39;49m stop_len)\n\u001b[0;32m     44\u001b[0m \t\u001b[39mif\u001b[39;00m minimal_len_2 \u001b[39m<\u001b[39m minimal_len :\n\u001b[0;32m     45\u001b[0m \t\tminimal_len \u001b[39m=\u001b[39m minimal_len_2\n",
      "Cell \u001b[1;32mIn[80], line 27\u001b[0m, in \u001b[0;36mrec_solver2\u001b[1;34m(cube, snake, minimal_len, stop_len)\u001b[0m\n\u001b[0;32m     24\u001b[0m \u001b[39mif\u001b[39;00m N \u001b[39m==\u001b[39m minimal_len :\n\u001b[0;32m     25\u001b[0m \t\u001b[39mprint\u001b[39m(\u001b[39m'\u001b[39m\u001b[39m#\u001b[39m\u001b[39m'\u001b[39m,end\u001b[39m=\u001b[39m\u001b[39m'\u001b[39m\u001b[39m'\u001b[39m)\n\u001b[1;32m---> 27\u001b[0m \u001b[39mif\u001b[39;00m \u001b[39mnot\u001b[39;00m test_no_isolated_blocks(cube):\n\u001b[0;32m     28\u001b[0m \t\u001b[39mreturn\u001b[39;00m \u001b[39mFalse\u001b[39;00m,cube,minimal_len\n\u001b[0;32m     30\u001b[0m snake \u001b[39m=\u001b[39m snake\u001b[39m.\u001b[39mcopy()\n",
      "Cell \u001b[1;32mIn[73], line 7\u001b[0m, in \u001b[0;36mtest_no_isolated_blocks\u001b[1;34m(cube)\u001b[0m\n\u001b[0;32m      5\u001b[0m x,y,z \u001b[39m=\u001b[39m cube\u001b[39m.\u001b[39mend_pointer\n\u001b[0;32m      6\u001b[0m M[x,y,z] \u001b[39m=\u001b[39m \u001b[39m99\u001b[39m\n\u001b[1;32m----> 7\u001b[0m \u001b[39mwhile\u001b[39;00m new_neighboor_to_99(M,cube_size): \u001b[39mpass\u001b[39;00m\n\u001b[0;32m      8\u001b[0m \u001b[39mreturn\u001b[39;00m \u001b[39m0\u001b[39m \u001b[39mnot\u001b[39;00m \u001b[39min\u001b[39;00m M\n",
      "Cell \u001b[1;32mIn[73], line 19\u001b[0m, in \u001b[0;36mnew_neighboor_to_99\u001b[1;34m(M, cube_size)\u001b[0m\n\u001b[0;32m     17\u001b[0m \u001b[39mfor\u001b[39;00m z \u001b[39min\u001b[39;00m \u001b[39mrange\u001b[39m(N3):\n\u001b[0;32m     18\u001b[0m     \u001b[39mif\u001b[39;00m M[x,y,z]\u001b[39m==\u001b[39m\u001b[39m99\u001b[39m : \n\u001b[1;32m---> 19\u001b[0m         \u001b[39mfor\u001b[39;00m xx,yy,zz \u001b[39min\u001b[39;00m neighboor((x,y,z),cube_size):\n\u001b[0;32m     20\u001b[0m             \u001b[39m# print(xx,yy,zz)\u001b[39;00m\n\u001b[0;32m     21\u001b[0m             \u001b[39mif\u001b[39;00m M[xx,yy,zz] \u001b[39m==\u001b[39m \u001b[39m0\u001b[39m:\n\u001b[0;32m     22\u001b[0m                 \u001b[39m# print(\"#\")\u001b[39;00m\n\u001b[0;32m     23\u001b[0m                 modif \u001b[39m=\u001b[39m \u001b[39mTrue\u001b[39;00m\n",
      "Cell \u001b[1;32mIn[73], line 44\u001b[0m, in \u001b[0;36mneighboor\u001b[1;34m(index, cube_size)\u001b[0m\n\u001b[0;32m     41\u001b[0m n5 \u001b[39m=\u001b[39m arr_index \u001b[39m-\u001b[39m Vy\n\u001b[0;32m     42\u001b[0m n6 \u001b[39m=\u001b[39m arr_index \u001b[39m-\u001b[39m Vz\n\u001b[1;32m---> 44\u001b[0m l \u001b[39m=\u001b[39m [   neigh\n\u001b[0;32m     45\u001b[0m         \u001b[39mfor\u001b[39;00m neigh \u001b[39min\u001b[39;00m [n1, n2, n3, n4, n5, n6]\n\u001b[0;32m     46\u001b[0m         \u001b[39mif\u001b[39;00m \u001b[39m-\u001b[39m\u001b[39m1\u001b[39m \u001b[39mnot\u001b[39;00m \u001b[39min\u001b[39;00m neigh \u001b[39mand\u001b[39;00m cube_size \u001b[39mnot\u001b[39;00m \u001b[39min\u001b[39;00m neigh]\n\u001b[0;32m     47\u001b[0m \u001b[39mreturn\u001b[39;00m l\n",
      "Cell \u001b[1;32mIn[73], line 46\u001b[0m, in \u001b[0;36m<listcomp>\u001b[1;34m(.0)\u001b[0m\n\u001b[0;32m     41\u001b[0m n5 \u001b[39m=\u001b[39m arr_index \u001b[39m-\u001b[39m Vy\n\u001b[0;32m     42\u001b[0m n6 \u001b[39m=\u001b[39m arr_index \u001b[39m-\u001b[39m Vz\n\u001b[0;32m     44\u001b[0m l \u001b[39m=\u001b[39m [   neigh\n\u001b[0;32m     45\u001b[0m         \u001b[39mfor\u001b[39;00m neigh \u001b[39min\u001b[39;00m [n1, n2, n3, n4, n5, n6]\n\u001b[1;32m---> 46\u001b[0m         \u001b[39mif\u001b[39;00m \u001b[39m-\u001b[39m\u001b[39m1\u001b[39m \u001b[39mnot\u001b[39;00m \u001b[39min\u001b[39;00m neigh \u001b[39mand\u001b[39;00m cube_size \u001b[39mnot\u001b[39;00m \u001b[39min\u001b[39;00m neigh]\n\u001b[0;32m     47\u001b[0m \u001b[39mreturn\u001b[39;00m l\n",
      "\u001b[1;31mKeyboardInterrupt\u001b[0m: "
     ]
    }
   ],
   "source": [
    "cube_sol = solve2(snake4,size=4,start_point=(0,1,1),stop_len=6)"
   ]
  },
  {
   "cell_type": "code",
   "execution_count": 108,
   "metadata": {},
   "outputs": [
    {
     "data": {
      "application/vnd.plotly.v1+json": {
       "config": {
        "plotlyServerURL": "https://plot.ly"
       },
       "data": [
        {
         "marker": {
          "color": "#555",
          "opacity": 0.8,
          "size": 12
         },
         "mode": "markers",
         "type": "scatter3d",
         "x": [
          0,
          0,
          0,
          0,
          0,
          0,
          0,
          0,
          0,
          0,
          0,
          0,
          0,
          0,
          0,
          0,
          1,
          1,
          1,
          1,
          1,
          1,
          1,
          1,
          1,
          1,
          1,
          1,
          1,
          1,
          1,
          1,
          2,
          2,
          2,
          2,
          2,
          2,
          2,
          2,
          2,
          2,
          2,
          2,
          2,
          2,
          2,
          2,
          3,
          3,
          3,
          3,
          3,
          3,
          3,
          3,
          3,
          3,
          3,
          3,
          3,
          3,
          3,
          3
         ],
         "y": [
          0,
          0,
          0,
          0,
          1,
          1,
          1,
          1,
          2,
          2,
          2,
          2,
          3,
          3,
          3,
          3,
          0,
          0,
          0,
          0,
          1,
          1,
          1,
          1,
          2,
          2,
          2,
          2,
          3,
          3,
          3,
          3,
          0,
          0,
          0,
          0,
          1,
          1,
          1,
          1,
          2,
          2,
          2,
          2,
          3,
          3,
          3,
          3,
          0,
          0,
          0,
          0,
          1,
          1,
          1,
          1,
          2,
          2,
          2,
          2,
          3,
          3,
          3,
          3
         ],
         "z": [
          0,
          1,
          2,
          3,
          0,
          1,
          2,
          3,
          0,
          1,
          2,
          3,
          0,
          1,
          2,
          3,
          0,
          1,
          2,
          3,
          0,
          1,
          2,
          3,
          0,
          1,
          2,
          3,
          0,
          1,
          2,
          3,
          0,
          1,
          2,
          3,
          0,
          1,
          2,
          3,
          0,
          1,
          2,
          3,
          0,
          1,
          2,
          3,
          0,
          1,
          2,
          3,
          0,
          1,
          2,
          3,
          0,
          1,
          2,
          3,
          0,
          1,
          2,
          3
         ]
        },
        {
         "marker": {
          "color": "#0a0",
          "opacity": 0.5,
          "size": 12
         },
         "mode": "markers",
         "type": "scatter3d",
         "x": [
          0,
          0,
          0,
          0,
          0,
          0,
          0,
          0,
          0,
          1,
          1,
          1,
          1,
          1,
          1,
          1,
          1,
          1,
          1,
          1,
          1,
          1,
          2,
          2,
          2,
          2,
          2,
          2,
          2,
          2,
          2,
          2,
          2,
          2,
          2,
          2,
          2,
          2,
          3,
          3,
          3,
          3,
          3,
          3,
          3,
          3,
          3,
          3,
          3,
          3,
          3,
          3,
          3,
          3
         ],
         "y": [
          0,
          0,
          1,
          1,
          2,
          2,
          3,
          3,
          3,
          0,
          0,
          1,
          1,
          1,
          1,
          2,
          2,
          2,
          3,
          3,
          3,
          3,
          0,
          0,
          0,
          0,
          1,
          1,
          1,
          1,
          2,
          2,
          2,
          2,
          3,
          3,
          3,
          3,
          0,
          0,
          0,
          0,
          1,
          1,
          1,
          1,
          2,
          2,
          2,
          2,
          3,
          3,
          3,
          3
         ],
         "z": [
          0,
          3,
          2,
          3,
          1,
          2,
          1,
          2,
          3,
          0,
          3,
          0,
          1,
          2,
          3,
          0,
          1,
          2,
          0,
          1,
          2,
          3,
          0,
          1,
          2,
          3,
          0,
          1,
          2,
          3,
          0,
          1,
          2,
          3,
          0,
          1,
          2,
          3,
          0,
          1,
          2,
          3,
          0,
          1,
          2,
          3,
          0,
          1,
          2,
          3,
          0,
          1,
          2,
          3
         ]
        },
        {
         "marker": {
          "color": "#f00",
          "opacity": 0.5,
          "size": 12
         },
         "mode": "markers",
         "type": "scatter3d",
         "x": [],
         "y": [],
         "z": []
        },
        {
         "marker": {
          "color": "#000",
          "opacity": 1,
          "size": 12
         },
         "mode": "markers",
         "type": "scatter3d",
         "x": [],
         "y": [],
         "z": []
        },
        {
         "marker": {
          "color": "#0aa",
          "opacity": 0.5,
          "size": 18
         },
         "mode": "markers",
         "type": "scatter3d",
         "x": [
          1
         ],
         "y": [
          1
         ],
         "z": [
          3
         ]
        },
        {
         "marker": {
          "color": "#0f0",
          "opacity": 0.5,
          "size": 18
         },
         "mode": "markers",
         "type": "scatter3d",
         "x": [
          0
         ],
         "y": [
          0
         ],
         "z": [
          0
         ]
        }
       ],
       "layout": {
        "margin": {
         "b": 0,
         "l": 0,
         "r": 0,
         "t": 0
        },
        "template": {
         "data": {
          "bar": [
           {
            "error_x": {
             "color": "#2a3f5f"
            },
            "error_y": {
             "color": "#2a3f5f"
            },
            "marker": {
             "line": {
              "color": "#E5ECF6",
              "width": 0.5
             },
             "pattern": {
              "fillmode": "overlay",
              "size": 10,
              "solidity": 0.2
             }
            },
            "type": "bar"
           }
          ],
          "barpolar": [
           {
            "marker": {
             "line": {
              "color": "#E5ECF6",
              "width": 0.5
             },
             "pattern": {
              "fillmode": "overlay",
              "size": 10,
              "solidity": 0.2
             }
            },
            "type": "barpolar"
           }
          ],
          "carpet": [
           {
            "aaxis": {
             "endlinecolor": "#2a3f5f",
             "gridcolor": "white",
             "linecolor": "white",
             "minorgridcolor": "white",
             "startlinecolor": "#2a3f5f"
            },
            "baxis": {
             "endlinecolor": "#2a3f5f",
             "gridcolor": "white",
             "linecolor": "white",
             "minorgridcolor": "white",
             "startlinecolor": "#2a3f5f"
            },
            "type": "carpet"
           }
          ],
          "choropleth": [
           {
            "colorbar": {
             "outlinewidth": 0,
             "ticks": ""
            },
            "type": "choropleth"
           }
          ],
          "contour": [
           {
            "colorbar": {
             "outlinewidth": 0,
             "ticks": ""
            },
            "colorscale": [
             [
              0,
              "#0d0887"
             ],
             [
              0.1111111111111111,
              "#46039f"
             ],
             [
              0.2222222222222222,
              "#7201a8"
             ],
             [
              0.3333333333333333,
              "#9c179e"
             ],
             [
              0.4444444444444444,
              "#bd3786"
             ],
             [
              0.5555555555555556,
              "#d8576b"
             ],
             [
              0.6666666666666666,
              "#ed7953"
             ],
             [
              0.7777777777777778,
              "#fb9f3a"
             ],
             [
              0.8888888888888888,
              "#fdca26"
             ],
             [
              1,
              "#f0f921"
             ]
            ],
            "type": "contour"
           }
          ],
          "contourcarpet": [
           {
            "colorbar": {
             "outlinewidth": 0,
             "ticks": ""
            },
            "type": "contourcarpet"
           }
          ],
          "heatmap": [
           {
            "colorbar": {
             "outlinewidth": 0,
             "ticks": ""
            },
            "colorscale": [
             [
              0,
              "#0d0887"
             ],
             [
              0.1111111111111111,
              "#46039f"
             ],
             [
              0.2222222222222222,
              "#7201a8"
             ],
             [
              0.3333333333333333,
              "#9c179e"
             ],
             [
              0.4444444444444444,
              "#bd3786"
             ],
             [
              0.5555555555555556,
              "#d8576b"
             ],
             [
              0.6666666666666666,
              "#ed7953"
             ],
             [
              0.7777777777777778,
              "#fb9f3a"
             ],
             [
              0.8888888888888888,
              "#fdca26"
             ],
             [
              1,
              "#f0f921"
             ]
            ],
            "type": "heatmap"
           }
          ],
          "heatmapgl": [
           {
            "colorbar": {
             "outlinewidth": 0,
             "ticks": ""
            },
            "colorscale": [
             [
              0,
              "#0d0887"
             ],
             [
              0.1111111111111111,
              "#46039f"
             ],
             [
              0.2222222222222222,
              "#7201a8"
             ],
             [
              0.3333333333333333,
              "#9c179e"
             ],
             [
              0.4444444444444444,
              "#bd3786"
             ],
             [
              0.5555555555555556,
              "#d8576b"
             ],
             [
              0.6666666666666666,
              "#ed7953"
             ],
             [
              0.7777777777777778,
              "#fb9f3a"
             ],
             [
              0.8888888888888888,
              "#fdca26"
             ],
             [
              1,
              "#f0f921"
             ]
            ],
            "type": "heatmapgl"
           }
          ],
          "histogram": [
           {
            "marker": {
             "pattern": {
              "fillmode": "overlay",
              "size": 10,
              "solidity": 0.2
             }
            },
            "type": "histogram"
           }
          ],
          "histogram2d": [
           {
            "colorbar": {
             "outlinewidth": 0,
             "ticks": ""
            },
            "colorscale": [
             [
              0,
              "#0d0887"
             ],
             [
              0.1111111111111111,
              "#46039f"
             ],
             [
              0.2222222222222222,
              "#7201a8"
             ],
             [
              0.3333333333333333,
              "#9c179e"
             ],
             [
              0.4444444444444444,
              "#bd3786"
             ],
             [
              0.5555555555555556,
              "#d8576b"
             ],
             [
              0.6666666666666666,
              "#ed7953"
             ],
             [
              0.7777777777777778,
              "#fb9f3a"
             ],
             [
              0.8888888888888888,
              "#fdca26"
             ],
             [
              1,
              "#f0f921"
             ]
            ],
            "type": "histogram2d"
           }
          ],
          "histogram2dcontour": [
           {
            "colorbar": {
             "outlinewidth": 0,
             "ticks": ""
            },
            "colorscale": [
             [
              0,
              "#0d0887"
             ],
             [
              0.1111111111111111,
              "#46039f"
             ],
             [
              0.2222222222222222,
              "#7201a8"
             ],
             [
              0.3333333333333333,
              "#9c179e"
             ],
             [
              0.4444444444444444,
              "#bd3786"
             ],
             [
              0.5555555555555556,
              "#d8576b"
             ],
             [
              0.6666666666666666,
              "#ed7953"
             ],
             [
              0.7777777777777778,
              "#fb9f3a"
             ],
             [
              0.8888888888888888,
              "#fdca26"
             ],
             [
              1,
              "#f0f921"
             ]
            ],
            "type": "histogram2dcontour"
           }
          ],
          "mesh3d": [
           {
            "colorbar": {
             "outlinewidth": 0,
             "ticks": ""
            },
            "type": "mesh3d"
           }
          ],
          "parcoords": [
           {
            "line": {
             "colorbar": {
              "outlinewidth": 0,
              "ticks": ""
             }
            },
            "type": "parcoords"
           }
          ],
          "pie": [
           {
            "automargin": true,
            "type": "pie"
           }
          ],
          "scatter": [
           {
            "fillpattern": {
             "fillmode": "overlay",
             "size": 10,
             "solidity": 0.2
            },
            "type": "scatter"
           }
          ],
          "scatter3d": [
           {
            "line": {
             "colorbar": {
              "outlinewidth": 0,
              "ticks": ""
             }
            },
            "marker": {
             "colorbar": {
              "outlinewidth": 0,
              "ticks": ""
             }
            },
            "type": "scatter3d"
           }
          ],
          "scattercarpet": [
           {
            "marker": {
             "colorbar": {
              "outlinewidth": 0,
              "ticks": ""
             }
            },
            "type": "scattercarpet"
           }
          ],
          "scattergeo": [
           {
            "marker": {
             "colorbar": {
              "outlinewidth": 0,
              "ticks": ""
             }
            },
            "type": "scattergeo"
           }
          ],
          "scattergl": [
           {
            "marker": {
             "colorbar": {
              "outlinewidth": 0,
              "ticks": ""
             }
            },
            "type": "scattergl"
           }
          ],
          "scattermapbox": [
           {
            "marker": {
             "colorbar": {
              "outlinewidth": 0,
              "ticks": ""
             }
            },
            "type": "scattermapbox"
           }
          ],
          "scatterpolar": [
           {
            "marker": {
             "colorbar": {
              "outlinewidth": 0,
              "ticks": ""
             }
            },
            "type": "scatterpolar"
           }
          ],
          "scatterpolargl": [
           {
            "marker": {
             "colorbar": {
              "outlinewidth": 0,
              "ticks": ""
             }
            },
            "type": "scatterpolargl"
           }
          ],
          "scatterternary": [
           {
            "marker": {
             "colorbar": {
              "outlinewidth": 0,
              "ticks": ""
             }
            },
            "type": "scatterternary"
           }
          ],
          "surface": [
           {
            "colorbar": {
             "outlinewidth": 0,
             "ticks": ""
            },
            "colorscale": [
             [
              0,
              "#0d0887"
             ],
             [
              0.1111111111111111,
              "#46039f"
             ],
             [
              0.2222222222222222,
              "#7201a8"
             ],
             [
              0.3333333333333333,
              "#9c179e"
             ],
             [
              0.4444444444444444,
              "#bd3786"
             ],
             [
              0.5555555555555556,
              "#d8576b"
             ],
             [
              0.6666666666666666,
              "#ed7953"
             ],
             [
              0.7777777777777778,
              "#fb9f3a"
             ],
             [
              0.8888888888888888,
              "#fdca26"
             ],
             [
              1,
              "#f0f921"
             ]
            ],
            "type": "surface"
           }
          ],
          "table": [
           {
            "cells": {
             "fill": {
              "color": "#EBF0F8"
             },
             "line": {
              "color": "white"
             }
            },
            "header": {
             "fill": {
              "color": "#C8D4E3"
             },
             "line": {
              "color": "white"
             }
            },
            "type": "table"
           }
          ]
         },
         "layout": {
          "annotationdefaults": {
           "arrowcolor": "#2a3f5f",
           "arrowhead": 0,
           "arrowwidth": 1
          },
          "autotypenumbers": "strict",
          "coloraxis": {
           "colorbar": {
            "outlinewidth": 0,
            "ticks": ""
           }
          },
          "colorscale": {
           "diverging": [
            [
             0,
             "#8e0152"
            ],
            [
             0.1,
             "#c51b7d"
            ],
            [
             0.2,
             "#de77ae"
            ],
            [
             0.3,
             "#f1b6da"
            ],
            [
             0.4,
             "#fde0ef"
            ],
            [
             0.5,
             "#f7f7f7"
            ],
            [
             0.6,
             "#e6f5d0"
            ],
            [
             0.7,
             "#b8e186"
            ],
            [
             0.8,
             "#7fbc41"
            ],
            [
             0.9,
             "#4d9221"
            ],
            [
             1,
             "#276419"
            ]
           ],
           "sequential": [
            [
             0,
             "#0d0887"
            ],
            [
             0.1111111111111111,
             "#46039f"
            ],
            [
             0.2222222222222222,
             "#7201a8"
            ],
            [
             0.3333333333333333,
             "#9c179e"
            ],
            [
             0.4444444444444444,
             "#bd3786"
            ],
            [
             0.5555555555555556,
             "#d8576b"
            ],
            [
             0.6666666666666666,
             "#ed7953"
            ],
            [
             0.7777777777777778,
             "#fb9f3a"
            ],
            [
             0.8888888888888888,
             "#fdca26"
            ],
            [
             1,
             "#f0f921"
            ]
           ],
           "sequentialminus": [
            [
             0,
             "#0d0887"
            ],
            [
             0.1111111111111111,
             "#46039f"
            ],
            [
             0.2222222222222222,
             "#7201a8"
            ],
            [
             0.3333333333333333,
             "#9c179e"
            ],
            [
             0.4444444444444444,
             "#bd3786"
            ],
            [
             0.5555555555555556,
             "#d8576b"
            ],
            [
             0.6666666666666666,
             "#ed7953"
            ],
            [
             0.7777777777777778,
             "#fb9f3a"
            ],
            [
             0.8888888888888888,
             "#fdca26"
            ],
            [
             1,
             "#f0f921"
            ]
           ]
          },
          "colorway": [
           "#636efa",
           "#EF553B",
           "#00cc96",
           "#ab63fa",
           "#FFA15A",
           "#19d3f3",
           "#FF6692",
           "#B6E880",
           "#FF97FF",
           "#FECB52"
          ],
          "font": {
           "color": "#2a3f5f"
          },
          "geo": {
           "bgcolor": "white",
           "lakecolor": "white",
           "landcolor": "#E5ECF6",
           "showlakes": true,
           "showland": true,
           "subunitcolor": "white"
          },
          "hoverlabel": {
           "align": "left"
          },
          "hovermode": "closest",
          "mapbox": {
           "style": "light"
          },
          "paper_bgcolor": "white",
          "plot_bgcolor": "#E5ECF6",
          "polar": {
           "angularaxis": {
            "gridcolor": "white",
            "linecolor": "white",
            "ticks": ""
           },
           "bgcolor": "#E5ECF6",
           "radialaxis": {
            "gridcolor": "white",
            "linecolor": "white",
            "ticks": ""
           }
          },
          "scene": {
           "xaxis": {
            "backgroundcolor": "#E5ECF6",
            "gridcolor": "white",
            "gridwidth": 2,
            "linecolor": "white",
            "showbackground": true,
            "ticks": "",
            "zerolinecolor": "white"
           },
           "yaxis": {
            "backgroundcolor": "#E5ECF6",
            "gridcolor": "white",
            "gridwidth": 2,
            "linecolor": "white",
            "showbackground": true,
            "ticks": "",
            "zerolinecolor": "white"
           },
           "zaxis": {
            "backgroundcolor": "#E5ECF6",
            "gridcolor": "white",
            "gridwidth": 2,
            "linecolor": "white",
            "showbackground": true,
            "ticks": "",
            "zerolinecolor": "white"
           }
          },
          "shapedefaults": {
           "line": {
            "color": "#2a3f5f"
           }
          },
          "ternary": {
           "aaxis": {
            "gridcolor": "white",
            "linecolor": "white",
            "ticks": ""
           },
           "baxis": {
            "gridcolor": "white",
            "linecolor": "white",
            "ticks": ""
           },
           "bgcolor": "#E5ECF6",
           "caxis": {
            "gridcolor": "white",
            "linecolor": "white",
            "ticks": ""
           }
          },
          "title": {
           "x": 0.05
          },
          "xaxis": {
           "automargin": true,
           "gridcolor": "white",
           "linecolor": "white",
           "ticks": "",
           "title": {
            "standoff": 15
           },
           "zerolinecolor": "white",
           "zerolinewidth": 2
          },
          "yaxis": {
           "automargin": true,
           "gridcolor": "white",
           "linecolor": "white",
           "ticks": "",
           "title": {
            "standoff": 15
           },
           "zerolinecolor": "white",
           "zerolinewidth": 2
          }
         }
        }
       }
      }
     },
     "metadata": {},
     "output_type": "display_data"
    },
    {
     "name": "stdout",
     "output_type": "stream",
     "text": [
      "['x', 'y', 'x', '-y', 'x', 'y', 'z', '-x', '-y', 'x', '-y', 'z', '-y', '-z', 'y', '-x', '-y', 'z', '-x', 'y', '-z', 'y', '-z', 'y', 'z', 'x', '-z', 'x', 'z', '-y', '-z', '-x', 'z', '-y', '-z', '-x', 'y', 'z', '-y', 'z']\n"
     ]
    }
   ],
   "source": [
    "plot_cube(cube_sol,start_point=(0,0,0))\n",
    "print(cube_sol.list_dir)"
   ]
  }
 ],
 "metadata": {
  "kernelspec": {
   "display_name": "test_3_10",
   "language": "python",
   "name": "python3"
  },
  "language_info": {
   "codemirror_mode": {
    "name": "ipython",
    "version": 3
   },
   "file_extension": ".py",
   "mimetype": "text/x-python",
   "name": "python",
   "nbconvert_exporter": "python",
   "pygments_lexer": "ipython3",
   "version": "3.10.9"
  },
  "orig_nbformat": 4,
  "vscode": {
   "interpreter": {
    "hash": "86c6387d9a0afb14418e6cea065ad39b38d9d796e3f568173537dd62ac991e94"
   }
  }
 },
 "nbformat": 4,
 "nbformat_minor": 2
}
