{
 "cells": [
  {
   "cell_type": "code",
   "execution_count": 80,
   "metadata": {},
   "outputs": [
    {
     "data": {
      "text/plain": [
       "True"
      ]
     },
     "execution_count": 80,
     "metadata": {},
     "output_type": "execute_result"
    }
   ],
   "source": [
    "snake = [3,2,2,3,2,3,2,2,3,3,2,2,2,3,3,3,3]\n",
    "snake.reverse()\n",
    "\n",
    "def sum_valid(snake:list,cube_size=3):\n",
    "    return sum(snake)-len(snake) + 1 == cube_size ** 3\n",
    "\n",
    "sum_valid(snake)"
   ]
  },
  {
   "cell_type": "code",
   "execution_count": 117,
   "metadata": {},
   "outputs": [],
   "source": [
    "import numpy as np\n",
    "from typing import Literal\n",
    "\n",
    "T_direction = Literal['x','-x','y','-y','z','-z']\n",
    "SIZE = 3\n",
    "\n",
    "\n",
    "\n",
    "class T_cube :\n",
    "    def __init__(self,  M:np.ndarray,\n",
    "                        end_pointer:tuple[int],\n",
    "                        prev_dir : T_direction = None,\n",
    "                        list_dir : list[T_direction] = None) -> None:\n",
    "\n",
    "        if list_dir is None : list_dir = []\n",
    "\n",
    "        self.list_dir = list_dir\n",
    "        self.M = M\n",
    "        self.end_pointer = end_pointer\n",
    "        self.prev_dir = prev_dir\n",
    "\n",
    "    def copy(self):\n",
    "        return T_cube(  M=self.M.copy(),\n",
    "                        end_pointer=self.end_pointer,\n",
    "                        prev_dir=self.prev_dir)\n",
    "\n",
    "\n",
    "\n",
    "\n",
    "\n",
    "def dir_possibilities( cube:T_cube,\n",
    "                        line:int):\n",
    "    \"\"\"\n",
    "    Return a possibilities list for a given line on a cube wich end at end_pointer\n",
    "    \"\"\"\n",
    "    prev_dir = cube.prev_dir\n",
    "    end = cube.end_pointer\n",
    "    poss = []                    \n",
    "    if prev_dir not in ['x','-x']:\n",
    "        if 0 <= end[0] + line - 1 < SIZE : poss.append('x')\n",
    "        if 0 <= end[0] - line + 1 < SIZE : poss.append('-x')\n",
    "                        \n",
    "    if prev_dir not in ['y','-y']:\n",
    "        if 0 <= end[1] + line - 1 < SIZE : poss.append('y')\n",
    "        if 0 <= end[1] - line + 1 < SIZE : poss.append('-y')\n",
    "                        \n",
    "    if prev_dir not in ['z','-z']:\n",
    "        if 0 <= end[2] + line - 1 < SIZE : poss.append('z')\n",
    "        if 0 <= end[2] - line + 1 < SIZE : poss.append('-z')\n",
    "    \n",
    "    return poss\n",
    "\n",
    "\n",
    "\n",
    "\n",
    "\n",
    "def add_to_cube(cube:T_cube,line,dir) -> tuple[bool,T_cube]:\n",
    "    cube = cube.copy()\n",
    "\n",
    "\n",
    "    M = cube.M\n",
    "    x,y,z = cube.end_pointer\n",
    "    match dir :\n",
    "        case 'x':\n",
    "            for i in range(1,line): M[x+i][y][z] += 1\n",
    "            cube.end_pointer = (x+(line-1),y,z)\n",
    "        case '-x':\n",
    "            for i in range(1,line): M[x-i][y][z] += 1\n",
    "            cube.end_pointer = (x-(line-1),y,z)\n",
    "        case 'y':\n",
    "            for i in range(1,line): M[x][y+i][z] += 1\n",
    "            cube.end_pointer = (x,y+(line-1),z)\n",
    "        case '-y':\n",
    "            for i in range(1,line): M[x][y-i][z] += 1\n",
    "            cube.end_pointer = (x,y-(line-1),z)\n",
    "        case 'z':\n",
    "            for i in range(1,line): M[x][y][z+i] += 1\n",
    "            cube.end_pointer = (x,y,z+(line-1))\n",
    "        case '-z':\n",
    "            for i in range(1,line): M[x][y][z-i] += 1\n",
    "            cube.end_pointer = (x,y,z-(line-1))\n",
    "\n",
    "    return (False, None) if 2 in M else (True, cube)\n",
    "\n"
   ]
  },
  {
   "cell_type": "code",
   "execution_count": 133,
   "metadata": {},
   "outputs": [],
   "source": [
    "class result :\n",
    "    minimum_len = len(snake)\n",
    "    cube_sol = None\n",
    "    sol_found = False\n",
    "\n",
    "\n",
    "def rec_solver( cube : T_cube,\n",
    "                snake : list[int]):\n",
    "    \n",
    "    if result.sol_found : return\n",
    "\n",
    "\n",
    "    if len(snake) < result.minimum_len :\n",
    "        result.minimum_len = len(snake)\n",
    "        print(\"Actual_len =\",result.minimum_len)\n",
    "\n",
    "\n",
    "    if snake == [] :\n",
    "        print(\"Solution\")\n",
    "        result.cube_sol = cube\n",
    "        result.sol_found = True\n",
    "        return\n",
    "    snake = snake.copy()\n",
    "    line = snake.pop(0)\n",
    "    l_new_dir = dir_possibilities(cube,line)\n",
    "    # print(l_new_dir)\n",
    "    # print(\"prev_dir =\",cube.prev_dir)\n",
    "\n",
    "    for dir in l_new_dir :\n",
    "        # print(cube.M)\n",
    "        # print(\"----------------\")\n",
    "        \n",
    "        test_ok,new_cube = add_to_cube(cube,line,dir)\n",
    "        \n",
    "        if test_ok : \n",
    "            new_cube.list_dir.append(dir)\n",
    "            rec_solver(new_cube,snake)\n",
    "\n",
    "    if l_new_dir == [] : \n",
    "        # print(cube.M)\n",
    "        print(\".\",end='')\n",
    "\n"
   ]
  },
  {
   "cell_type": "code",
   "execution_count": 134,
   "metadata": {},
   "outputs": [
    {
     "name": "stdout",
     "output_type": "stream",
     "text": [
      "Actual_len = 16\n",
      "Actual_len = 15\n",
      "Actual_len = 14\n",
      "Actual_len = 13\n",
      "Actual_len = 12\n",
      "Actual_len = 11\n",
      "Actual_len = 10\n",
      "Actual_len = 9\n",
      "Actual_len = 8\n",
      "Actual_len = 7\n",
      "Actual_len = 6\n",
      ".Actual_len = 5\n",
      "Actual_len = 4\n",
      "Actual_len = 3\n",
      ".....Actual_len = 2\n",
      "Actual_len = 1\n",
      "Actual_len = 0\n",
      "Solution\n",
      "..Solution\n",
      "Solution\n",
      "...............Solution\n",
      "..Solution\n",
      "Solution\n",
      "................................Solution\n",
      "..Solution\n",
      "Solution\n",
      "....................Solution\n",
      "Solution\n",
      "..Solution\n",
      "................................Solution\n",
      "Solution\n",
      "..Solution\n",
      "...............Solution\n",
      "Solution\n",
      "..Solution\n",
      "......"
     ]
    }
   ],
   "source": [
    "cube_init = T_cube( M = np.zeros((SIZE,SIZE,SIZE), dtype=int),\n",
    "                    end_pointer = (0,0,0),\n",
    "                    prev_dir=None)\n",
    "\n",
    "Actual_len = len(snake)\n",
    "A = rec_solver(cube_init,snake)"
   ]
  },
  {
   "cell_type": "code",
   "execution_count": 127,
   "metadata": {},
   "outputs": [
    {
     "ename": "AttributeError",
     "evalue": "'NoneType' object has no attribute 'M'",
     "output_type": "error",
     "traceback": [
      "\u001b[1;31m---------------------------------------------------------------------------\u001b[0m",
      "\u001b[1;31mAttributeError\u001b[0m                            Traceback (most recent call last)",
      "\u001b[1;32m~\\AppData\\Local\\Temp/ipykernel_17656/2519168251.py\u001b[0m in \u001b[0;36m<module>\u001b[1;34m\u001b[0m\n\u001b[1;32m----> 1\u001b[1;33m \u001b[0mA\u001b[0m\u001b[1;33m.\u001b[0m\u001b[0mM\u001b[0m\u001b[1;33m\u001b[0m\u001b[1;33m\u001b[0m\u001b[0m\n\u001b[0m",
      "\u001b[1;31mAttributeError\u001b[0m: 'NoneType' object has no attribute 'M'"
     ]
    }
   ],
   "source": [
    "A.M"
   ]
  },
  {
   "cell_type": "code",
   "execution_count": null,
   "metadata": {},
   "outputs": [
    {
     "name": "stdout",
     "output_type": "stream",
     "text": [
      "[6, 5, 4, 1, 3, 5, 2, 1]\n",
      "[6, 5, 4, 1, 3, 5, 2, 1]\n",
      "[5, 4, 99, 3, 5, 2, 1]\n"
     ]
    }
   ],
   "source": [
    "l = [6,5,4,1,3,5,2,1]\n",
    "print(l)\n",
    "l2 = l.copy()\n",
    "l2.pop(0)\n",
    "l2[2]=99\n",
    "print(l)\n",
    "print(l2)"
   ]
  },
  {
   "cell_type": "code",
   "execution_count": null,
   "metadata": {},
   "outputs": [
    {
     "data": {
      "text/plain": [
       "[1, 2]"
      ]
     },
     "execution_count": 43,
     "metadata": {},
     "output_type": "execute_result"
    }
   ],
   "source": [
    "list(range(1,3))"
   ]
  }
 ],
 "metadata": {
  "kernelspec": {
   "display_name": "Python 3",
   "language": "python",
   "name": "python3"
  },
  "language_info": {
   "codemirror_mode": {
    "name": "ipython",
    "version": 3
   },
   "file_extension": ".py",
   "mimetype": "text/x-python",
   "name": "python",
   "nbconvert_exporter": "python",
   "pygments_lexer": "ipython3",
   "version": "3.10.0"
  },
  "orig_nbformat": 4,
  "vscode": {
   "interpreter": {
    "hash": "97f5a94c7549630b6ac962323839998fe5997c24e1fea78abadebaca49a55361"
   }
  }
 },
 "nbformat": 4,
 "nbformat_minor": 2
}
